{
 "cells": [
  {
   "cell_type": "markdown",
   "metadata": {
    "colab_type": "text",
    "id": "BBWVWbl4AL4q"
   },
   "source": [
    "# Apprenez une heuristique pour le Go\n",
    "\n",
    "Dans ce TP noté, vous devrez déployer des methodes d'apprentissage automatique permettant d'évaluer la qualité de plateaux de GO.\n",
    "\n",
    "Pour cela, vous disposerez de 41563 exemples de plateau de Go, tous générés par gnugo après quelques coups contre lui même avec un niveau de difficulté de 0. Par chaque plateau, nous avons lancé 100 matchs de gnugo contre lui même, toujours avec un niveau 0, et compté le nombre de victoires de noir et de blanc depuis ce plateau.\n",
    "\n",
    "A noter, chaque \"rollout\" (un rollout et un déroulement possible du match depuis le plateau de référence) correspond à des mouvements choisis aléatoirement parmis les 10 meilleurs mouvements possibles, en biasant le choix aléatoire par la qualité prédite du mouvement par gnugo (les meilleurs mouvements ont une plus forte probabilité d'être tirés).\n",
    "\n",
    "Les données dont vous disposez sont brutes. Ce sera à vous de proposer un format adéquat pour utiliser ces données en entrée de votre réseau neuronal. \n",
    "\n",
    "## Comment sera évalué votre modèle ?\n",
    "\n",
    "Nous vous fournirons 6h avant la date de rendu un nouveau fichier contenant 1000 nouveaux exemples, qui ne contiendront pas les champs `black_wins`, `white_wins`, `black_points` et `white_points`. Vous devrez laisser, dans votre dépot de projet un fichier texte nommé `my_predictions.txt` ayant une prédiction par ligne (un simple flottant) qui donnera, dans le même ordre de la liste des exemples les scores que vous prédisez pour chacune des entrées du fichier que nous vous aurons donné. Il faudra laisser, dans votre feuille notebook (voir tout en dessous) la cellule Python qui aura créé ce fichier, pour que l'on puisse éventuellement refaire vos prédictions.\n",
    "\n",
    "Bien entendu, vous nous rendrez également votre feuille jupyter **sous deux formats**, à la fois le fichier `.ipynb` et le fichier `.html` nous permettant de lire ce que vous avez fait, sans forcément relancer la feuille. Nous prendrons en compte les résultats obtenus sur les prédictions mais aussi le contenu de vos notebooks jupyter.\n",
    "\n",
    "### Comment sera noté ce TP ?\n",
    "\n",
    "Il s'agit d'un TP noté, donc il ne faudra pas y passer trop de temps. Nous attendons des prédictions correctes mais surtout des choix justifiés dans la feuille. Votre feuille notebook sera le plus important pour la notation (n'hésitez pas à mettre des cellules de texte pour expliquer pourquoi vous avez été amenés à faire certains choix). Ainsi, il serait bien d'avoir, par exemple, les données (graphiques ou autre) qui permettent de comprendre comment vous avez évité l'overfitting.\n",
    "\n",
    "Le fichier de vos prédiction sera évalué en se basant sur la qualité de vos prédictions. Nous mesurerons par exemple le nombre d'exemples dont votre prédiction donnera la bonne valeur à 5%, 10%, 20%, 35%, 50% pour estimer sa qualité.\n",
    "\n",
    "\n",
    "## Mise en route !\n",
    "\n",
    "Voyons  comment lire les données\n"
   ]
  },
  {
   "cell_type": "code",
   "execution_count": 0,
   "metadata": {
    "colab": {
     "base_uri": "https://localhost:8080/",
     "height": 34
    },
    "colab_type": "code",
    "id": "F1pi6FKRAL4s",
    "outputId": "2e05ff47-4a83-447d-929e-02af80ee7a30"
   },
   "outputs": [
    {
     "name": "stdout",
     "output_type": "stream",
     "text": [
      "We have 41563 examples\n"
     ]
    }
   ],
   "source": [
    "# Import du fichier d'exemples\n",
    "\n",
    "def get_raw_data_go():\n",
    "    ''' Returns the set of samples from the local file or download it if it does not exists'''\n",
    "    import gzip, os.path\n",
    "    import json\n",
    "\n",
    "    raw_samples_file = \"samples-9x9.json.gz\"\n",
    "\n",
    "    if not os.path.isfile(raw_samples_file):\n",
    "        print(\"File\", raw_samples_file, \"not found, I am downloading it...\", end=\"\")\n",
    "        import urllib.request \n",
    "        urllib.request.urlretrieve (\"https://www.labri.fr/perso/lsimon/ia-inge2/samples-9x9.json.gz\", \"samples-9x9.json.gz\")\n",
    "        print(\" Done\")\n",
    "\n",
    "    with gzip.open(\"samples-9x9.json.gz\") as fz:\n",
    "        data = json.loads(fz.read().decode(\"utf-8\"))\n",
    "    return data\n",
    "\n",
    "data = get_raw_data_go()\n",
    "print(\"We have\", len(data),\"examples\")"
   ]
  },
  {
   "cell_type": "markdown",
   "metadata": {
    "colab_type": "text",
    "id": "aiTQQeUfAL4y"
   },
   "source": [
    "## Compréhension des données de chaque entrée\n",
    "\n",
    "Voici une description de chaque exemple"
   ]
  },
  {
   "cell_type": "code",
   "execution_count": 0,
   "metadata": {
    "colab": {
     "base_uri": "https://localhost:8080/",
     "height": 232
    },
    "colab_type": "code",
    "id": "aCHJrVuAAL4z",
    "outputId": "a0572f8e-1093-4778-f87e-c2e0bf55be18"
   },
   "outputs": [
    {
     "name": "stdout",
     "output_type": "stream",
     "text": [
      "Sample 10\n",
      "\n",
      "Données brutes en format JSON: {'depth': 8, 'list_of_moves': ['C6', 'E7', 'C3', 'C8', 'E5', 'G3', 'B7', 'H7'], 'black_stones': ['B7', 'C6', 'E5', 'C3'], 'white_stones': ['C8', 'E7', 'H7', 'G3'], 'rollouts': 100, 'black_wins': 60, 'black_points': 876.0, 'white_wins': 40, 'white_points': 378.0}\n",
      "\n",
      "The sample was obtained after 8 moves\n",
      "The successive moves were ['C6', 'E7', 'C3', 'C8', 'E5', 'G3', 'B7', 'H7']\n",
      "After these moves and all the captures, there was black stones at the following position ['B7', 'C6', 'E5', 'C3']\n",
      "After these moves and all the captures, there was white stones at the following position ['C8', 'E7', 'H7', 'G3']\n",
      "Number of rollouts (gnugo games played against itself from this position): 100\n",
      "Over these 100 games, black won 60 times with 876.0 total points over all this winning games\n",
      "Over these 100 games, white won 40 times with 378.0 total points over all this winning games\n"
     ]
    }
   ],
   "source": [
    "def summary_of_example(data, sample_nb):\n",
    "    ''' Gives you some insights about a sample number'''\n",
    "    sample = data[sample_nb]\n",
    "    print(\"Sample\", sample_nb)\n",
    "    print()\n",
    "    print(\"Données brutes en format JSON:\", sample)\n",
    "    print()\n",
    "    print(\"The sample was obtained after\", sample[\"depth\"], \"moves\")\n",
    "    print(\"The successive moves were\", sample[\"list_of_moves\"])\n",
    "    print(\"After these moves and all the captures, there was black stones at the following position\", sample[\"black_stones\"])\n",
    "    print(\"After these moves and all the captures, there was white stones at the following position\", sample[\"white_stones\"])\n",
    "    print(\"Number of rollouts (gnugo games played against itself from this position):\", sample[\"rollouts\"])\n",
    "    print(\"Over these\", sample[\"rollouts\"], \"games, black won\", sample[\"black_wins\"], \"times with\", sample[\"black_points\"], \"total points over all this winning games\")\n",
    "    print(\"Over these\", sample[\"rollouts\"], \"games, white won\", sample[\"white_wins\"], \"times with\", sample[\"white_points\"], \"total points over all this winning games\")\n",
    "\n",
    "summary_of_example(data,10)"
   ]
  },
  {
   "cell_type": "markdown",
   "metadata": {
    "colab_type": "text",
    "id": "V0ovGuY1AL44"
   },
   "source": [
    "## Données en entrée et en sortie de votre modèle final\n",
    "\n",
    "Même si en interne, votre modèle va manipuler des tenseurs en numpy, vous devrez construire une boite noire qui prendra en entrée les coordonnées des pierres noires et blanches et donnera le pourcentage de chance pour noir de gagner depuis cette position. \n",
    "\n",
    "Ainsi, pour l'exemple `i` :\n",
    "- Vous prendez en entree `data[i][\"black_stones\"]` et `data[i][\"white_stones\"]`\n",
    "- Vous devrez prédire simplement `data[i][\"black_wins\"]/data[i][\"rollouts\"]`\n",
    "\n",
    "Encore une fois, **attention** : en interne, il faudra absolument construire vos données formattées en matrices numpy pour faire votre entrainement. On vous demande juste ici d'écrire comment vous faites ces transformations, pour comprendre ce que vous avez décidé de mettre en entrée du réseau.\n",
    "\n",
    "Voici le modèle de la fonction qui pourra être appelée, au final :\n"
   ]
  },
  {
   "cell_type": "code",
   "execution_count": 0,
   "metadata": {
    "colab": {
     "base_uri": "https://localhost:8080/",
     "height": 250
    },
    "colab_type": "code",
    "id": "abMFRfXrAL45",
    "outputId": "e4d9745e-3be4-41f3-9f9e-311446d9821f"
   },
   "outputs": [
    {
     "name": "stdout",
     "output_type": "stream",
     "text": [
      "Prediction this sample:\n",
      "Sample 10\n",
      "\n",
      "Données brutes en format JSON: {'depth': 8, 'list_of_moves': ['C6', 'E7', 'C3', 'C8', 'E5', 'G3', 'B7', 'H7'], 'black_stones': ['B7', 'C6', 'E5', 'C3'], 'white_stones': ['C8', 'E7', 'H7', 'G3'], 'rollouts': 100, 'black_wins': 60, 'black_points': 876.0, 'white_wins': 40, 'white_points': 378.0}\n",
      "\n",
      "The sample was obtained after 8 moves\n",
      "The successive moves were ['C6', 'E7', 'C3', 'C8', 'E5', 'G3', 'B7', 'H7']\n",
      "After these moves and all the captures, there was black stones at the following position ['B7', 'C6', 'E5', 'C3']\n",
      "After these moves and all the captures, there was white stones at the following position ['C8', 'E7', 'H7', 'G3']\n",
      "Number of rollouts (gnugo games played against itself from this position): 100\n",
      "Over these 100 games, black won 60 times with 876.0 total points over all this winning games\n",
      "Over these 100 games, white won 40 times with 378.0 total points over all this winning games\n"
     ]
    }
   ],
   "source": [
    "\n",
    "\"\"\" Déplacé dans la cellule finale (de prédiction)\n",
    "def position_predict(black_stones, white_stones):\n",
    "\n",
    "    # ... Votre tambouille interne pour placer les pierres comme il faut dans votre structure de données\n",
    "    # et appeler votre modèle Keras (typiquement avec model.predict())\n",
    "    prediction = None # model.predict(...) # A REMPLIR CORRECTEMENT\n",
    "    \n",
    "    return prediction\n",
    "\n",
    "\n",
    "# Par exemple, nous pourrons appeler votre prédiction ainsi\n",
    "\"\"\"\n",
    "print(\"Prediction this sample:\")\n",
    "summary_of_example(data, 10)\n",
    "\n",
    "\"\"\"\n",
    "print()\n",
    "prediction = position_predict(data[10][\"black_stones\"], data[10][\"white_stones\"])\n",
    "print(\"You predicted\", prediction, \"and the actual target was\", data[10][\"black_wins\"]/data[10][\"rollouts\"])\n",
    "\"\"\"\n",
    "# Ainsi, pour le rendu, en admettant que newdata soit le fichier json contenant les nouvelles données que \n",
    "# l'on vous donnera 24h avant la fin, vous pourrez construire le fichier resultat ainsi\n",
    "\n",
    "def create_result_file(newdata):\n",
    "    ''' Exemple de méthode permettant de générer le fichier de resultats demandés. '''\n",
    "    resultat  = [position_predict(d[\"black_stones\"], d[\"white_stones\"])[0] for d in newdata]\n",
    "    with open(\"my_predictions.txt\", \"w\") as f:\n",
    "         for p in resultat:\n",
    "            f.write(str(p)+\"\\n\")\n",
    "\n"
   ]
  },
  {
   "cell_type": "code",
   "execution_count": 0,
   "metadata": {
    "colab": {
     "base_uri": "https://localhost:8080/",
     "height": 591
    },
    "colab_type": "code",
    "id": "NVXEVjI3AL49",
    "outputId": "387b842a-9188-4c7f-b51a-e91e1fc60517"
   },
   "outputs": [
    {
     "name": "stdout",
     "output_type": "stream",
     "text": [
      "The CDF curve shows that black has more chances to win, globally\n"
     ]
    },
    {
     "data": {
      "image/png": "[encoded data removed]",
      "text/plain": [
       "<Figure size 432x288 with 1 Axes>"
      ]
     },
     "metadata": {
      "needs_background": "light",
      "tags": []
     },
     "output_type": "display_data"
    },
    {
     "data": {
      "image/png": "[encoded data removed]",
      "text/plain": [
       "<Figure size 432x288 with 1 Axes>"
      ]
     },
     "metadata": {
      "needs_background": "light",
      "tags": []
     },
     "output_type": "display_data"
    }
   ],
   "source": [
    "%matplotlib inline\n",
    "import matplotlib.pyplot as plt\n",
    "\n",
    "plt.title(\"Relationship between the depth of the board and the chance for black to win\")\n",
    "plt.plot([sample[\"black_wins\"] for sample in data],[sample[\"depth\"] for sample in data], '.')\n",
    "plt.xlabel(\"black wins (percentage)\")\n",
    "plt.ylabel(\"depth of the game\")\n",
    "\n",
    "\n",
    "# Cumulative Distribution function of the chance of black to win\n",
    "cdf_wins = sorted([sample[\"black_wins\"] for sample in data])\n",
    "plt.figure()\n",
    "plt.plot([x/len(cdf_wins) for x in range(len(cdf_wins))], cdf_wins)\n",
    "plt.title(\"Cumulative Distribution function of the chance of black to win\")\n",
    "plt.xlabel(\"\\% of the samples with a chance of black to win below y\")\n",
    "plt.ylabel(\"Chance of black to win\")\n",
    "print(\"The CDF curve shows that black has more chances to win, globally\")"
   ]
  },
  {
   "cell_type": "markdown",
   "metadata": {
    "colab_type": "text",
    "id": "qAPPXTsmAL5C"
   },
   "source": [
    "# First steps: transform all the data into numpy arrays to feed your neural network\n",
    "\n",
    "Advices:\n",
    "- do not use only a 9x9 matrix as input. Use at least to planes to encode the board. One plane for black and one plane for white (typically with a 1 if there is a black stone for the first plane and with a 1 if there is a white stone for the second plane). The dimension of an input should be at least `[9,9,2]`.\n",
    "- consider to enrich your dataset with all symmetries and rotations. You should be able to multiply the number of samples to consider: any rotation of the board should have the same score, right?\n",
    "- what should happen on the score if you switch the colors? To know which player has to play next, you can check, for a sample, the parity of the length of the list `data[i][\"list_of_moves\"]` (an odd length list would mean that white is the next player. An even length list means that black has to play).\n",
    "- work on enlarging and preparing your data only once. Once all you input data is setup as a big Numpy matrix, you may want to save it for speeding up everything. You can use, for instance `numpy.rot90()` and `numpy.flipud()` to generate all the symmetries\n",
    "\n"
   ]
  },
  {
   "cell_type": "code",
   "execution_count": 0,
   "metadata": {
    "colab": {
     "base_uri": "https://localhost:8080/",
     "height": 907
    },
    "colab_type": "code",
    "id": "-OniPbiBAL5D",
    "outputId": "3cbb9b9b-24f5-4d3c-f4fc-37e2b741cbd3"
   },
   "outputs": [
    {
     "name": "stdout",
     "output_type": "stream",
     "text": [
      "(498756, 2, 9, 9)\n",
      "(498756, 2)\n",
      "<class 'numpy.ndarray'> <class 'numpy.ndarray'>\n",
      "\n",
      "Sample n° 10\n",
      "BLACK: ['B7', 'C6', 'E5', 'C3'] WHITE: ['C8', 'E7', 'H7', 'G3']\n",
      "BLACK: [[0. 0. 0. 0. 0. 0. 0. 0. 0.]\n",
      " [0. 0. 0. 0. 0. 0. 1. 0. 0.]\n",
      " [0. 0. 1. 0. 0. 1. 0. 0. 0.]\n",
      " [0. 0. 0. 0. 0. 0. 0. 0. 0.]\n",
      " [0. 0. 0. 0. 1. 0. 0. 0. 0.]\n",
      " [0. 0. 0. 0. 0. 0. 0. 0. 0.]\n",
      " [0. 0. 0. 0. 0. 0. 0. 0. 0.]\n",
      " [0. 0. 0. 0. 0. 0. 0. 0. 0.]\n",
      " [0. 0. 0. 0. 0. 0. 0. 0. 0.]]\n",
      "WHITE: [[0. 0. 0. 0. 0. 0. 0. 0. 0.]\n",
      " [0. 0. 0. 0. 0. 0. 0. 0. 0.]\n",
      " [0. 0. 0. 0. 0. 0. 0. 1. 0.]\n",
      " [0. 0. 0. 0. 0. 0. 0. 0. 0.]\n",
      " [0. 0. 0. 0. 0. 0. 1. 0. 0.]\n",
      " [0. 0. 0. 0. 0. 0. 0. 0. 0.]\n",
      " [0. 0. 1. 0. 0. 0. 0. 0. 0.]\n",
      " [0. 0. 0. 0. 0. 0. 1. 0. 0.]\n",
      " [0. 0. 0. 0. 0. 0. 0. 0. 0.]]\n",
      "0.6\n",
      "0.6\n",
      "\n",
      "Sample n° 51\n",
      "BLACK: ['E9', 'D8', 'C7', 'F7', 'B6', 'C6', 'D6', 'E6', 'G6', 'C5', 'F5', 'H5', 'F3', 'G3', 'H3', 'E2', 'B1', 'D1'] WHITE: ['D9', 'B8', 'C8', 'B7', 'A6', 'B5', 'D5', 'E5', 'B4', 'C4', 'F4', 'G4', 'D3', 'E3', 'B2', 'D2']\n",
      "BLACK: [[0. 0. 0. 0. 0. 0. 0. 0. 0.]\n",
      " [1. 0. 0. 0. 0. 1. 0. 0. 0.]\n",
      " [0. 0. 0. 0. 1. 1. 1. 0. 0.]\n",
      " [1. 0. 0. 0. 0. 1. 0. 1. 0.]\n",
      " [0. 1. 0. 0. 0. 1. 0. 0. 1.]\n",
      " [0. 0. 1. 0. 1. 0. 1. 0. 0.]\n",
      " [0. 0. 1. 0. 0. 1. 0. 0. 0.]\n",
      " [0. 0. 1. 0. 1. 0. 0. 0. 0.]\n",
      " [0. 0. 0. 0. 0. 0. 0. 0. 0.]]\n",
      "WHITE: [[0. 0. 0. 0. 0. 1. 0. 0. 0.]\n",
      " [0. 1. 0. 1. 1. 0. 1. 1. 0.]\n",
      " [0. 0. 0. 1. 0. 0. 0. 1. 0.]\n",
      " [0. 1. 1. 0. 1. 0. 0. 0. 1.]\n",
      " [0. 0. 1. 0. 1. 0. 0. 0. 0.]\n",
      " [0. 0. 0. 1. 0. 0. 0. 0. 0.]\n",
      " [0. 0. 0. 1. 0. 0. 0. 0. 0.]\n",
      " [0. 0. 0. 0. 0. 0. 0. 0. 0.]\n",
      " [0. 0. 0. 0. 0. 0. 0. 0. 0.]]\n",
      "0.78\n",
      "0.78\n"
     ]
    }
   ],
   "source": [
    "import numpy as np\n",
    "\n",
    "def name_to_coord(s):\n",
    "    assert s != \"PASS\"\n",
    "    indexLetters = {'A':0, 'B':1, 'C':2, 'D':3, 'E':4, 'F':5, 'G':6, 'H':7, 'J':8}\n",
    "\n",
    "    col = indexLetters[s[0]]\n",
    "    lin = int(s[1:]) - 1\n",
    "    return col, lin\n",
    "\n",
    "def stones_to_board(stones):\n",
    "    \"\"\"\n",
    "    Convertit un tableau comprenant des pierres (1 joueur) en un plateau 9*9\n",
    "    \"\"\"\n",
    "    board = np.zeros((9,9))\n",
    "    for i in range(len(stones)):\n",
    "        col, lin = name_to_coord(stones[i])\n",
    "        board[col][lin] = 1.\n",
    "    return board\n",
    "\n",
    "def get_rot_sym_board(board):\n",
    "    \"\"\"\n",
    "    A partir d'un tableau, retourne les rotations et les symétries de ce tableau\n",
    "    \"\"\"\n",
    "    return [np.rot90(board, 4-i) for i in range(4)] + [np.flipud(np.rot90(board, 4-i)) for i in range(4)] + [np.fliplr(np.rot90(board, 4-i)) for i in range(4)]\n",
    "\n",
    "def get_all_boards(b_board,w_board, reverse=False):\n",
    "    \"\"\"\n",
    "    Retourne un tableau comprenant les couples de tableaux avec les rotations et les symétries des 2 joueurs\n",
    "    \"\"\"\n",
    "    b_boards = get_rot_sym_board(b_board)\n",
    "    w_boards = get_rot_sym_board(w_board)\n",
    "    if reverse:\n",
    "        return [[w_boards[i], b_boards[i]] for i in range(len(b_boards))]\n",
    "    else:\n",
    "        return [[b_boards[i], w_boards[i]] for i in range(len(b_boards))]\n",
    "\n",
    "def data_to_array(data, length=None, start=0, reverse=True):\n",
    "    \"\"\"\n",
    "    Constitue les tableaux X et Y à partir du tableau de données data\n",
    "    \"\"\"\n",
    "    if length == None:\n",
    "        length = len(data)\n",
    "    if reverse :\n",
    "        X = np.random.rand(24 * length, 2, 9, 9)\n",
    "    else:\n",
    "        X = np.random.rand(12 * length, 2, 9, 9)  \n",
    "    # on a mis rand car car permet d'être un peu plus rapide que si l'on avait utilisé np.zeros  \n",
    "    YList = []\n",
    "    offset = 0 \n",
    "\n",
    "    for k in range(start, start + length):\n",
    "        #Test if a board can be reversed (a board can be reversed iff the number of moves is even)\n",
    "        can_reverse = False\n",
    "        if reverse:\n",
    "            can_reverse = (len(data[k][\"list_of_moves\"]) % 2) == 0\n",
    "\n",
    "        #Add stones to boards\n",
    "        black_board = stones_to_board(data[k][\"black_stones\"])\n",
    "        white_board = stones_to_board(data[k][\"white_stones\"])\n",
    "\n",
    "        #Get boards\n",
    "        boards = np.asarray(get_all_boards(black_board, white_board))\n",
    "        if reverse and can_reverse:\n",
    "            reverse_boards = np.asarray(get_all_boards(black_board, white_board, True))\n",
    "        \n",
    "        #Get prediction value\n",
    "        val = 0.\n",
    "        b_wins = data[k][\"black_wins\"]\n",
    "        rollouts = data[k][\"rollouts\"]\n",
    "        val = b_wins / rollouts\n",
    "        #Add to X\n",
    "        if reverse:\n",
    "            if can_reverse:\n",
    "                X[24*k - offset * 12 : 24*k+12 - offset * 12 ] = boards\n",
    "                X[24*k - offset * 12 +12 : 24*k+24 - offset * 12 ] = reverse_boards\n",
    "            else:\n",
    "                X[24*k - offset * 12 : 24*k+12 - offset * 12 ] = boards\n",
    "                offset += 1\n",
    "        else :\n",
    "            X[12*k:12*k+12] = boards\n",
    "\n",
    "        #Add to Y\n",
    "        for l in range(len(boards)):\n",
    "            YList.append(np.array([val, 1 - val]))\n",
    "        if reverse:\n",
    "            if can_reverse:\n",
    "                for l in range(len(reverse_boards)):\n",
    "                    YList.append(np.array([1-val, val]))\n",
    "    Y = np.array(YList)\n",
    "    if reverse:\n",
    "        X = np.array(X[:X.shape[0] - offset * 12])\n",
    "    return X,Y\n",
    "\n",
    "\"\"\"\n",
    "taille = 4000\n",
    "X, Y = data_to_array(data,taille)\n",
    "\"\"\"\n",
    "#X, Y = data_to_array(data)\n",
    "\n",
    "\"\"\"\n",
    "On a fait le choix de ne pas inverser les rôles en tant que blanc ou noir dans\n",
    "les cas où c'est possibles (nombre de moves pair) car meme si c'est possible,\n",
    "nous pensons que le fait le noir doit jouer le prochain coup peut influer\n",
    "sur les winrates des deux camps.\n",
    "\"\"\"\n",
    "X, Y = data_to_array(data,reverse=False)\n",
    "\n",
    "#Vérification des données transformées\n",
    "print(X.shape)\n",
    "print(Y.shape)\n",
    "\n",
    "print(type(X), type(Y))\n",
    "\n",
    "def test_board_data(sample_nb): #works only if the data are not reversed\n",
    "    print()\n",
    "    print(\"Sample n°\", sample_nb)\n",
    "    print(\"BLACK:\",data[sample_nb][\"black_stones\"], \"WHITE:\", data[sample_nb][\"white_stones\"])\n",
    "    print(\"BLACK:\",X[12*sample_nb][0])\n",
    "    print(\"WHITE:\",X[12*sample_nb][1])\n",
    "    print(data[sample_nb][\"black_wins\"]/data[sample_nb][\"rollouts\"])\n",
    "    print(Y[12*sample_nb][0])\n",
    "\n",
    "test_board_data(10)\n",
    "test_board_data(51)"
   ]
  },
  {
   "cell_type": "markdown",
   "metadata": {
    "colab_type": "text",
    "id": "ppezLHVtAL5H"
   },
   "source": [
    "# Second steps: build your neural network and train it\n",
    "\n",
    "Don't forget to check overfitting, ...\n",
    "\n",
    "*advices* :\n",
    "- you need to test Dense and Conv2D layers (the best models may contain convolution layers)\n",
    "- if you use convolution layers, be sure not to downsize your board. Applying a filter should keep the original size of the board (9x9), otherwise you would somehow forget the stones on the borders\n",
    "- you will use like 33% of your input sample for validation. However, the final goal is to score new data that will be given in addition to the actual data. So, you should use the 33% splitting rule to set up your network architecture and, once you fixed it, you should train your final model on the whole set of data, crossing your fingers that it will generalize well.\n",
    "- Warning: if you launch the fit function from keras more than once, it will not reset the weights and the biases of your neural network. It's good news because you can add more and more epochs to your model, but be careful about the training/test sets: each time you call fit() with validation_split set up to something like 0.33, it will choose a **new** partition of the samples. So you are breaking your validation/training partition! We advice you to use the `sklearn.model_selection.train_test_split()` method to split the set of examples just once and then use the parameter `validation_data` in the call for `fit()`.  Thus you will be able to call it multiple time.\n"
   ]
  },
  {
   "cell_type": "code",
   "execution_count": 0,
   "metadata": {
    "colab": {
     "base_uri": "https://localhost:8080/",
     "height": 1000
    },
    "colab_type": "code",
    "id": "efjejkTEAL5I",
    "outputId": "60f634cd-3c9f-409c-8c93-7cf7ffac9750"
   },
   "outputs": [
    {
     "name": "stdout",
     "output_type": "stream",
     "text": [
      "(334166, 2, 9, 9)\n",
      "(164590, 2, 9, 9)\n",
      "334166\n",
      "164590\n",
      "Model: \"sequential\"\n",
      "_________________________________________________________________\n",
      "Layer (type)                 Output Shape              Param #   \n",
      "=================================================================\n",
      "conv2d (Conv2D)              (None, 32, 9, 9)          1632      \n",
      "_________________________________________________________________\n",
      "conv2d_1 (Conv2D)            (None, 256, 9, 9)         205056    \n",
      "_________________________________________________________________\n",
      "flatten (Flatten)            (None, 20736)             0         \n",
      "_________________________________________________________________\n",
      "dense (Dense)                (None, 256)               5308672   \n",
      "_________________________________________________________________\n",
      "dense_1 (Dense)              (None, 2)                 514       \n",
      "=================================================================\n",
      "Total params: 5,515,874\n",
      "Trainable params: 5,515,874\n",
      "Non-trainable params: 0\n",
      "_________________________________________________________________\n",
      "Epoch 1/50\n",
      "1671/1671 [==============================] - 16s 10ms/step - loss: 0.1411 - accuracy: 0.8387 - val_loss: 0.1290 - val_accuracy: 0.8505\n",
      "Epoch 2/50\n",
      "1671/1671 [==============================] - 16s 9ms/step - loss: 0.1086 - accuracy: 0.8743 - val_loss: 0.1015 - val_accuracy: 0.8838\n",
      "Epoch 3/50\n",
      "1671/1671 [==============================] - 16s 9ms/step - loss: 0.0987 - accuracy: 0.8857 - val_loss: 0.1002 - val_accuracy: 0.8850\n",
      "Epoch 4/50\n",
      "1671/1671 [==============================] - 16s 10ms/step - loss: 0.0920 - accuracy: 0.8927 - val_loss: 0.0939 - val_accuracy: 0.8904\n",
      "Epoch 5/50\n",
      "1671/1671 [==============================] - 16s 9ms/step - loss: 0.0865 - accuracy: 0.8996 - val_loss: 0.0923 - val_accuracy: 0.8926\n",
      "Epoch 6/50\n",
      "1671/1671 [==============================] - 16s 9ms/step - loss: 0.0809 - accuracy: 0.9060 - val_loss: 0.0870 - val_accuracy: 0.8980\n",
      "Epoch 7/50\n",
      "1671/1671 [==============================] - 16s 9ms/step - loss: 0.0765 - accuracy: 0.9109 - val_loss: 0.0898 - val_accuracy: 0.8962\n",
      "Epoch 8/50\n",
      "1671/1671 [==============================] - 16s 9ms/step - loss: 0.0720 - accuracy: 0.9162 - val_loss: 0.0893 - val_accuracy: 0.8953\n",
      "Epoch 9/50\n",
      "1671/1671 [==============================] - 16s 9ms/step - loss: 0.0684 - accuracy: 0.9204 - val_loss: 0.0842 - val_accuracy: 0.9006\n",
      "Epoch 10/50\n",
      "1671/1671 [==============================] - 16s 10ms/step - loss: 0.0652 - accuracy: 0.9243 - val_loss: 0.0848 - val_accuracy: 0.9000\n",
      "Epoch 11/50\n",
      "1671/1671 [==============================] - 16s 9ms/step - loss: 0.0625 - accuracy: 0.9272 - val_loss: 0.0837 - val_accuracy: 0.9018\n",
      "Epoch 12/50\n",
      "1671/1671 [==============================] - 16s 10ms/step - loss: 0.0596 - accuracy: 0.9308 - val_loss: 0.0809 - val_accuracy: 0.9046\n",
      "Epoch 13/50\n",
      "1671/1671 [==============================] - 16s 9ms/step - loss: 0.0574 - accuracy: 0.9330 - val_loss: 0.0834 - val_accuracy: 0.9029\n",
      "Epoch 14/50\n",
      "1671/1671 [==============================] - 16s 9ms/step - loss: 0.0551 - accuracy: 0.9355 - val_loss: 0.0804 - val_accuracy: 0.9053\n",
      "Epoch 15/50\n",
      "1671/1671 [==============================] - 16s 9ms/step - loss: 0.0530 - accuracy: 0.9382 - val_loss: 0.0794 - val_accuracy: 0.9064\n",
      "Epoch 16/50\n",
      "1671/1671 [==============================] - 16s 9ms/step - loss: 0.0514 - accuracy: 0.9399 - val_loss: 0.0780 - val_accuracy: 0.9087\n",
      "Epoch 17/50\n",
      "1671/1671 [==============================] - 16s 10ms/step - loss: 0.0495 - accuracy: 0.9423 - val_loss: 0.0795 - val_accuracy: 0.9058\n",
      "Epoch 18/50\n",
      "1671/1671 [==============================] - 16s 9ms/step - loss: 0.0482 - accuracy: 0.9437 - val_loss: 0.0771 - val_accuracy: 0.9104\n",
      "Epoch 19/50\n",
      "1671/1671 [==============================] - 16s 10ms/step - loss: 0.0469 - accuracy: 0.9455 - val_loss: 0.0776 - val_accuracy: 0.9066\n",
      "Epoch 20/50\n",
      "1671/1671 [==============================] - 16s 9ms/step - loss: 0.0456 - accuracy: 0.9464 - val_loss: 0.0769 - val_accuracy: 0.9091\n",
      "Epoch 21/50\n",
      "1671/1671 [==============================] - 16s 9ms/step - loss: 0.0442 - accuracy: 0.9482 - val_loss: 0.0772 - val_accuracy: 0.9077\n",
      "Epoch 22/50\n",
      "1671/1671 [==============================] - 16s 9ms/step - loss: 0.0433 - accuracy: 0.9490 - val_loss: 0.0757 - val_accuracy: 0.9098\n",
      "Epoch 23/50\n",
      "1671/1671 [==============================] - 16s 9ms/step - loss: 0.0422 - accuracy: 0.9504 - val_loss: 0.0761 - val_accuracy: 0.9091\n",
      "Epoch 24/50\n",
      "1671/1671 [==============================] - 16s 9ms/step - loss: 0.0413 - accuracy: 0.9513 - val_loss: 0.0776 - val_accuracy: 0.9044\n",
      "Epoch 25/50\n",
      "1671/1671 [==============================] - 16s 9ms/step - loss: 0.0403 - accuracy: 0.9524 - val_loss: 0.0765 - val_accuracy: 0.9090\n",
      "Epoch 26/50\n",
      "1671/1671 [==============================] - 16s 9ms/step - loss: 0.0395 - accuracy: 0.9534 - val_loss: 0.0750 - val_accuracy: 0.9106\n",
      "Epoch 27/50\n",
      "1671/1671 [==============================] - 16s 10ms/step - loss: 0.0388 - accuracy: 0.9545 - val_loss: 0.0746 - val_accuracy: 0.9108\n",
      "Epoch 28/50\n",
      "1671/1671 [==============================] - 16s 10ms/step - loss: 0.0379 - accuracy: 0.9548 - val_loss: 0.0761 - val_accuracy: 0.9077\n",
      "Epoch 29/50\n",
      "1671/1671 [==============================] - 16s 9ms/step - loss: 0.0371 - accuracy: 0.9560 - val_loss: 0.0749 - val_accuracy: 0.9085\n",
      "Epoch 30/50\n",
      "1671/1671 [==============================] - 16s 9ms/step - loss: 0.0365 - accuracy: 0.9571 - val_loss: 0.0748 - val_accuracy: 0.9096\n",
      "Epoch 31/50\n",
      "1671/1671 [==============================] - 16s 10ms/step - loss: 0.0358 - accuracy: 0.9576 - val_loss: 0.0738 - val_accuracy: 0.9118\n",
      "Epoch 32/50\n",
      "1671/1671 [==============================] - 16s 10ms/step - loss: 0.0353 - accuracy: 0.9578 - val_loss: 0.0748 - val_accuracy: 0.9116\n",
      "Epoch 33/50\n",
      "1671/1671 [==============================] - 16s 9ms/step - loss: 0.0347 - accuracy: 0.9585 - val_loss: 0.0734 - val_accuracy: 0.9112\n",
      "Epoch 34/50\n",
      "1671/1671 [==============================] - 16s 10ms/step - loss: 0.0340 - accuracy: 0.9598 - val_loss: 0.0730 - val_accuracy: 0.9122\n",
      "Epoch 35/50\n",
      "1671/1671 [==============================] - 16s 9ms/step - loss: 0.0335 - accuracy: 0.9600 - val_loss: 0.0737 - val_accuracy: 0.9135\n",
      "Epoch 36/50\n",
      "1671/1671 [==============================] - 16s 10ms/step - loss: 0.0329 - accuracy: 0.9608 - val_loss: 0.0730 - val_accuracy: 0.9118\n",
      "Epoch 37/50\n",
      "1671/1671 [==============================] - 16s 9ms/step - loss: 0.0325 - accuracy: 0.9613 - val_loss: 0.0738 - val_accuracy: 0.9106\n",
      "Epoch 38/50\n",
      "1671/1671 [==============================] - 16s 9ms/step - loss: 0.0322 - accuracy: 0.9616 - val_loss: 0.0728 - val_accuracy: 0.9116\n",
      "Epoch 39/50\n",
      "1671/1671 [==============================] - 16s 9ms/step - loss: 0.0315 - accuracy: 0.9627 - val_loss: 0.0729 - val_accuracy: 0.9115\n",
      "Epoch 40/50\n",
      "1671/1671 [==============================] - 16s 9ms/step - loss: 0.0312 - accuracy: 0.9628 - val_loss: 0.0738 - val_accuracy: 0.9105\n",
      "Epoch 41/50\n",
      "1671/1671 [==============================] - 16s 9ms/step - loss: 0.0307 - accuracy: 0.9639 - val_loss: 0.0735 - val_accuracy: 0.9105\n",
      "Epoch 42/50\n",
      "1671/1671 [==============================] - 17s 10ms/step - loss: 0.0303 - accuracy: 0.9637 - val_loss: 0.0728 - val_accuracy: 0.9123\n",
      "Epoch 43/50\n",
      "1671/1671 [==============================] - 16s 10ms/step - loss: 0.0298 - accuracy: 0.9646 - val_loss: 0.0721 - val_accuracy: 0.9121\n",
      "Epoch 44/50\n",
      "1671/1671 [==============================] - 16s 10ms/step - loss: 0.0296 - accuracy: 0.9642 - val_loss: 0.0721 - val_accuracy: 0.9127\n",
      "Epoch 45/50\n",
      "1671/1671 [==============================] - 16s 10ms/step - loss: 0.0291 - accuracy: 0.9653 - val_loss: 0.0719 - val_accuracy: 0.9135\n",
      "Epoch 46/50\n",
      "1671/1671 [==============================] - 16s 9ms/step - loss: 0.0289 - accuracy: 0.9655 - val_loss: 0.0716 - val_accuracy: 0.9131\n",
      "Epoch 47/50\n",
      "1671/1671 [==============================] - 16s 9ms/step - loss: 0.0285 - accuracy: 0.9661 - val_loss: 0.0719 - val_accuracy: 0.9121\n",
      "Epoch 48/50\n",
      "1671/1671 [==============================] - 16s 9ms/step - loss: 0.0282 - accuracy: 0.9663 - val_loss: 0.0722 - val_accuracy: 0.9126\n",
      "Epoch 49/50\n",
      "1671/1671 [==============================] - 16s 9ms/step - loss: 0.0279 - accuracy: 0.9666 - val_loss: 0.0717 - val_accuracy: 0.9133\n",
      "Epoch 50/50\n",
      "1671/1671 [==============================] - 16s 10ms/step - loss: 0.0276 - accuracy: 0.9670 - val_loss: 0.0711 - val_accuracy: 0.9132\n"
     ]
    },
    {
     "data": {
      "text/plain": [
       "<tensorflow.python.keras.callbacks.History at 0x7f7820140a58>"
      ]
     },
     "execution_count": 6,
     "metadata": {
      "tags": []
     },
     "output_type": "execute_result"
    }
   ],
   "source": [
    "import tensorflow.keras\n",
    "from tensorflow.keras.models import Sequential\n",
    "\n",
    "from tensorflow.keras.layers import Dense, Dropout, Activation, Flatten \n",
    "from tensorflow.keras.layers import Conv2D, BatchNormalization, MaxPooling2D\n",
    "import tensorflow.keras.optimizers as optimizers\n",
    "import sklearn.model_selection\n",
    "\n",
    "#On met channels_first car nos boards sont de format (2,9,9) et non (9,9,2) NE MARCHE QUE SI GPU\n",
    "tensorflow.keras.backend.set_image_data_format('channels_first')\n",
    "\n",
    "\n",
    "X_train, X_test, Y_train, Y_test = sklearn.model_selection.train_test_split(X, Y, test_size=0.33, shuffle= True)\n",
    "\n",
    "#dans les Y : avoir win rate des noirs et des blancs, np.array(2)\n",
    "def print_testing_shape():\n",
    "    print(X_train.shape)\n",
    "    print(X_test.shape)\n",
    "    print(len(Y_train))\n",
    "    print(len(Y_test))\n",
    "\n",
    "print_testing_shape()\n",
    "\n",
    "def model90(): #plus rapide \n",
    "    model = Sequential()\n",
    "    model.add(Conv2D(32, kernel_size=3, activation='relu', input_shape=(2,9,9), padding =\"same\"))\n",
    "    model.add(Conv2D(64, kernel_size=5, activation='relu', padding =\"same\"))\n",
    "    model.add(Conv2D(64, kernel_size=5, activation='relu', padding =\"same\"))\n",
    "    model.add(Conv2D(64, kernel_size=5, activation='relu', padding =\"same\"))\n",
    "    model.add(Flatten())\n",
    "    model.add(Dense(32, activation='relu'))\n",
    "    model.add(Dense(32, activation='relu'))\n",
    "    model.add(Dense(2, activation='sigmoid')) \n",
    "    opt= optimizers.Adam()\n",
    "    model.compile(loss='mean_squared_error',\n",
    "                optimizer = opt,\n",
    "                metrics=['accuracy'])\n",
    "    model.summary()\n",
    "    return model\n",
    "\n",
    "def tuned_model(): #Tuned with Keras Tuner\n",
    "    model = Sequential()\n",
    "    model.add(Conv2D(32, kernel_size=5, activation='relu', input_shape=(2,9,9), padding =\"same\"))\n",
    "    model.add(Conv2D(256, kernel_size=5, activation='relu', padding =\"same\"))\n",
    "    model.add(Flatten())\n",
    "    model.add(Dense(256, activation='relu'))\n",
    "    model.add(Dense(2, activation='softmax')) \n",
    "    opt= optimizers.Adam()\n",
    "    model.compile(loss='mean_absolute_error',\n",
    "                optimizer = opt,\n",
    "                metrics=['accuracy'])\n",
    "    model.summary()\n",
    "    return model\n",
    "\n",
    "model = tuned_model() #Model choice\n",
    "\n",
    "from tensorflow.keras.callbacks import Callback\n",
    "\n",
    "class History(Callback):\n",
    "    \n",
    "    def __init__(self):\n",
    "        self.history = {}\n",
    "        \n",
    "    def on_epoch_end(self, epoch, logs={}):       \n",
    "        for k,v in logs.items():\n",
    "            if not k in self.history: self.history[k]=[]\n",
    "            self.history[k].append(v)\n",
    "        print(\".\",end=\"\")\n",
    "history=[History()]\n",
    "\n",
    "model.fit(X_train, Y_train, batch_size=200, epochs=50, validation_data=(X_test, Y_test),callbacks=history)\n",
    "\n"
   ]
  },
  {
   "cell_type": "code",
   "execution_count": 0,
   "metadata": {
    "colab": {
     "base_uri": "https://localhost:8080/",
     "height": 1000
    },
    "colab_type": "code",
    "id": "OmVRFb6UaLwr",
    "outputId": "aba037e6-3d3a-4d1e-da0f-1f0931574c32"
   },
   "outputs": [
    {
     "data": {
      "image/png": "[encoded data removed]",
      "text/plain": [
       "<Figure size 648x648 with 1 Axes>"
      ]
     },
     "metadata": {
      "needs_background": "light",
      "tags": []
     },
     "output_type": "display_data"
    },
    {
     "data": {
      "image/png": "[encoded data removed]",
      "text/plain": [
       "<Figure size 648x648 with 1 Axes>"
      ]
     },
     "metadata": {
      "needs_background": "light",
      "tags": []
     },
     "output_type": "display_data"
    }
   ],
   "source": [
    "plt.rcParams['figure.figsize'] = 9, 9\n",
    "\n",
    "#Print model accuracy\n",
    "plt.plot(history[0].history['accuracy']) \n",
    "plt.plot(history[0].history['val_accuracy']) \n",
    "plt.title('Model Accuracy (on training data)') \n",
    "plt.ylabel('accuracy') \n",
    "plt.xlabel('epoch') \n",
    "plt.legend(['Accuracy','Acc (Val)']) \n",
    "plt.show()\n",
    "\n",
    "#Print model loss\n",
    "plt.plot(history[0].history['loss']) \n",
    "plt.plot(history[0].history['val_loss']) \n",
    "plt.title('Model Loss (on training data)') \n",
    "plt.ylabel('loss') \n",
    "plt.xlabel('epoch') \n",
    "plt.legend(['Loss', 'Loss (val)']) \n",
    "plt.show()"
   ]
  },
  {
   "cell_type": "code",
   "execution_count": 0,
   "metadata": {
    "colab": {
     "base_uri": "https://localhost:8080/",
     "height": 34
    },
    "colab_type": "code",
    "id": "OB-K0Sb5hwDy",
    "outputId": "16f355f8-7a36-41c6-ddb9-43178cb890cf"
   },
   "outputs": [
    {
     "name": "stdout",
     "output_type": "stream",
     "text": [
      "Saved model to disk\n"
     ]
    }
   ],
   "source": [
    "#Save model\n",
    "model_json = model.to_json()\n",
    "with open(\"model.json\", \"w\") as json_file:\n",
    "    json_file.write(model_json)\n",
    "# serialize weights to HDF5\n",
    "model.save_weights(\"model.h5\")\n",
    "print(\"Saved model to disk\")"
   ]
  },
  {
   "cell_type": "code",
   "execution_count": 0,
   "metadata": {
    "colab": {
     "base_uri": "https://localhost:8080/",
     "height": 87
    },
    "colab_type": "code",
    "id": "jgjoWW9YCDL6",
    "outputId": "e87c4d66-f178-4f59-c0ee-51d87cbde551"
   },
   "outputs": [
    {
     "name": "stdout",
     "output_type": "stream",
     "text": [
      "Test loss (%) :  7.113315165042877\n",
      "Test accuracy (%) :  91.32450222969055\n",
      "(164590, 2)\n",
      "0.9083115620633089\n"
     ]
    }
   ],
   "source": [
    "score = model.evaluate(X_test, Y_test, verbose=0)\n",
    "print('Test loss (%) : ', score[0]*100)\n",
    "print('Test accuracy (%) : ', score[1]*100)\n",
    "\n",
    "#------------------------------------\n",
    "a = (np.abs(model.predict(X_test)-Y_test) < 0.2)\n",
    "print(a.shape)\n",
    "\n",
    "cpt = 0\n",
    "for i in range(0, a.shape[0]):\n",
    "    if (a[i][0]):\n",
    "        cpt += 1\n",
    "print(cpt/a.shape[0]) # Affiche le pourcentage des bonnes prédictions à 0.2 près"
   ]
  },
  {
   "cell_type": "code",
   "execution_count": 0,
   "metadata": {
    "colab": {
     "base_uri": "https://localhost:8080/",
     "height": 923
    },
    "colab_type": "code",
    "id": "4deJc390tbWS",
    "outputId": "5cb8507a-75b4-42de-b27a-4dfdbab25e78"
   },
   "outputs": [
    {
     "name": "stdout",
     "output_type": "stream",
     "text": [
      "Test 100\n",
      "Prediction :  [2.0986267e-08 1.0000000e+00]\n",
      "True value :  [0. 1.]\n",
      "Ecart (%) :  [2.09862669e-06 0.00000000e+00]\n",
      "\n",
      "Test 101\n",
      "Prediction :  [0.99490404 0.00509591]\n",
      "True value :  [0.4 0.6]\n",
      "Ecart (%) :  [59.49040413 59.49040902]\n",
      "\n",
      "Test 102\n",
      "Prediction :  [0.55218834 0.44781163]\n",
      "True value :  [0.56 0.44]\n",
      "Ecart (%) :  [0.78116632 0.78116333]\n",
      "\n",
      "Test 103\n",
      "Prediction :  [0.70905554 0.29094443]\n",
      "True value :  [0.68 0.32]\n",
      "Ecart (%) :  [2.90555429 2.90555727]\n",
      "\n",
      "Test 104\n",
      "Prediction :  [0.7285544 0.2714456]\n",
      "True value :  [0.71 0.29]\n",
      "Ecart (%) :  [1.85544276 1.85543978]\n",
      "\n",
      "Test 105\n",
      "Prediction :  [0.00221681 0.99778324]\n",
      "True value :  [0. 1.]\n",
      "Ecart (%) :  [0.22168127 0.22167563]\n",
      "\n",
      "Test 106\n",
      "Prediction :  [0.0317646  0.96823543]\n",
      "True value :  [0.06 0.94]\n",
      "Ecart (%) :  [2.82353958 2.82354331]\n",
      "\n",
      "Test 107\n",
      "Prediction :  [7.608485e-08 9.999999e-01]\n",
      "True value :  [0. 1.]\n",
      "Ecart (%) :  [7.60848522e-06 1.19209290e-05]\n",
      "\n",
      "Test 108\n",
      "Prediction :  [1.0000000e+00 2.1940922e-19]\n",
      "True value :  [1. 0.]\n",
      "Ecart (%) :  [0.00000000e+00 2.19409218e-17]\n",
      "\n",
      "Test 109\n",
      "Prediction :  [0.64817786 0.35182208]\n",
      "True value :  [0.67 0.33]\n",
      "Ecart (%) :  [2.18221378 2.18220782]\n",
      "\n",
      "Ecart (%) :  5.503602422370607e-09\n"
     ]
    }
   ],
   "source": [
    "def print_prediction(start, length=1): #Comparaison de prédiction\n",
    "    pred = model.predict(X_test)\n",
    "    for i in range (start, start + length):\n",
    "        print(\"Test {}\".format(i))\n",
    "        print(\"Prediction : \", pred[i])\n",
    "        print(\"True value : \", Y_test[i])\n",
    "        print(\"Ecart (%) : \", abs(pred[i] - Y_test[i]) * 100)\n",
    "        print()\n",
    "\n",
    "print_prediction(100, 10)\n",
    "    \n",
    "def print_mean_ecart(): #Donne la moyenne des écarts\n",
    "    pred = model.predict(X_test)\n",
    "    print(\"Ecart (%) : \", np.mean(pred-Y_test) * 100)\n",
    "\n",
    "print_mean_ecart()"
   ]
  },
  {
   "cell_type": "markdown",
   "metadata": {
    "colab_type": "text",
    "id": "wEu7xpITAL5N"
   },
   "source": [
    "# Last step\n",
    "\n",
    "Prepare your model to predict the set of new data to predict, you will have only 6 hours to push your predictions.\n",
    "\n",
    "(may be you would like to express, when guessing the percentage of wins for blacks, that it should reflect the fact that this score should be the same for all the symmetries you considered)..."
   ]
  },
  {
   "cell_type": "code",
   "execution_count": 0,
   "metadata": {
    "colab": {},
    "colab_type": "code",
    "id": "KlUe7XN6AL5O"
   },
   "outputs": [],
   "source": [
    "def get_raw_data_go_test(): #Charge les fichiers pour la prédiction (on aurait pu faire une unique fonction avec des arguments)\n",
    "    ''' Returns the set of samples from the local file or download it if it does not exists'''\n",
    "    import gzip, os.path\n",
    "    import json\n",
    "    raw_samples_file = \"positions-to-evaluate-9x9.json.gz\"\n",
    "\n",
    "    if not os.path.isfile(raw_samples_file):\n",
    "        print(\"File\", raw_samples_file, \"not found, I am downloading it...\", end=\"\")\n",
    "        import urllib.request \n",
    "        urllib.request.urlretrieve (\"https://www.labri.fr/perso/lsimon/ia-inge2/positions-to-evaluate-9x9.json.gz\", \"positions-to-evaluate-9x9.json.gz\")\n",
    "        print(\" Done\")\n",
    "\n",
    "    with gzip.open(\"positions-to-evaluate-9x9.json.gz\") as fz:\n",
    "        data_test = json.loads(fz.read().decode(\"utf-8\"))\n",
    "    return data_test\n",
    "\n",
    "data_test = get_raw_data_go_test()\n",
    "\n",
    "USE_SAVED_MODEL=False\n",
    "\n",
    "from tensorflow.keras.models import model_from_json, load_model\n",
    "#Load model iff USE_SAVED_MODEL == True\n",
    "if (USE_SAVED_MODEL):\n",
    "    # load json and create model\n",
    "    json_file = open('model.json', 'r')\n",
    "\n",
    "    loaded_model_json = json_file.read()\n",
    "    json_file.close()\n",
    "    loaded_model = model_from_json(loaded_model_json)\n",
    "\n",
    "    # load weights into new model\n",
    "    loaded_model.load_weights(\"model.h5\")\n",
    "    print(\"Loaded model from disk\")\n",
    "\n",
    "    loaded_model.save('model.hdf5')\n",
    "    loaded_model=load_model('model.hdf5')\n",
    "    loaded_model.compile(loss='mean_squared_error',\n",
    "                optimizer = 'adam',\n",
    "                metrics=['accuracy'])\n",
    "    loaded_model.summary()\n",
    "\n",
    "\n",
    "def position_predict(black_stones, white_stones):\n",
    "    global model\n",
    "    board = np.asarray([[stones_to_board(black_stones),stones_to_board(white_stones)]])\n",
    "    # ... Votre tambouille interne pour placer les pierres comme il faut dans votre structure de données\n",
    "    # et appeler votre modèle Keras (typiquement avec model.predict())\n",
    "\n",
    "    if (USE_SAVED_MODEL):\n",
    "        model = loaded_model\n",
    "    prediction = model.predict(board)[0] # model.predict(...) # A REMPLIR CORRECTEMENT\n",
    "    \n",
    "    return prediction\n",
    "\n",
    "create_result_file(data_test)\n",
    "\n"
   ]
  }
 ],
 "metadata": {
  "accelerator": "GPU",
  "colab": {
   "collapsed_sections": [],
   "name": "tp-ml-go.ipynb",
   "provenance": [],
   "toc_visible": true
  },
  "kernelspec": {
   "display_name": "Python 3",
   "language": "python",
   "name": "python3"
  },
  "language_info": {
   "codemirror_mode": {
    "name": "ipython",
    "version": 3
   },
   "file_extension": ".py",
   "mimetype": "text/x-python",
   "name": "python",
   "nbconvert_exporter": "python",
   "pygments_lexer": "ipython3",
   "version": "3.7.6"
  }
 },
 "nbformat": 4,
 "nbformat_minor": 1
}
