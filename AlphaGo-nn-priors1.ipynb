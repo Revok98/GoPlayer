{
 "cells": [
  {
   "cell_type": "code",
   "execution_count": 19,
   "metadata": {},
   "outputs": [],
   "source": [
    "import tensorflow.keras\n",
    "from tensorflow.keras.models import Sequential\n",
    "from tensorflow.keras.layers import Dense, Dropout, Activation, Flatten\n",
    "from tensorflow.keras.layers import Conv2D, BatchNormalization, LocallyConnected2D, SeparableConv2D\n",
    "import tensorflow.keras.optimizers as optimizers\n",
    "from tensorflow.keras.constraints import max_norm\n",
    "import numpy as np\n",
    "from sklearn.model_selection import train_test_split\n",
    "from tensorflow.keras.callbacks import Callback\n",
    "from tensorflow.keras import activations"
   ]
  },
  {
   "cell_type": "code",
   "execution_count": 20,
   "metadata": {},
   "outputs": [],
   "source": [
    "from create_data import create_all_x_y"
   ]
  },
  {
   "cell_type": "code",
   "execution_count": 21,
   "metadata": {},
   "outputs": [
    {
     "name": "stdout",
     "output_type": "stream",
     "text": [
      "8 parties rejetées par le goban, reste 2294 parties\n",
      "(14681, 9, 9, 49)\n",
      "(14681, 82)\n"
     ]
    }
   ],
   "source": [
    "X, y = create_all_x_y()\n",
    "\n",
    "X_train, X_test, y_train, y_test = train_test_split(X, y, test_size=0.2)\n",
    "\n",
    "print(X_train.shape)\n",
    "print(y_train.shape)"
   ]
  },
  {
   "cell_type": "code",
   "execution_count": 28,
   "metadata": {},
   "outputs": [
    {
     "name": "stdout",
     "output_type": "stream",
     "text": [
      "Model: \"sequential_6\"\n",
      "_________________________________________________________________\n",
      "Layer (type)                 Output Shape              Param #   \n",
      "=================================================================\n",
      "conv2d_24 (Conv2D)           (None, 9, 9, 32)          39232     \n",
      "_________________________________________________________________\n",
      "conv2d_25 (Conv2D)           (None, 9, 9, 256)         205056    \n",
      "_________________________________________________________________\n",
      "flatten_6 (Flatten)          (None, 20736)             0         \n",
      "_________________________________________________________________\n",
      "dense_12 (Dense)             (None, 256)               5308672   \n",
      "_________________________________________________________________\n",
      "dropout_1 (Dropout)          (None, 256)               0         \n",
      "_________________________________________________________________\n",
      "dense_13 (Dense)             (None, 82)                21074     \n",
      "=================================================================\n",
      "Total params: 5,574,034\n",
      "Trainable params: 5,574,034\n",
      "Non-trainable params: 0\n",
      "_________________________________________________________________\n"
     ]
    }
   ],
   "source": [
    "model = Sequential()\n",
    "model.add(Conv2D(32, kernel_size=5, activation='relu', input_shape=X[0].shape, padding =\"same\"))\n",
    "model.add(Conv2D(256, kernel_size=5, activation='relu', padding =\"same\"))\n",
    "model.add(Flatten())\n",
    "model.add(Dense(256, activation='relu'))\n",
    "model.add(Dropout(0.5))\n",
    "model.add(Dense(82, activation='relu')) \n",
    "opt= optimizers.Adam()\n",
    "model.compile(loss='mean_absolute_error',optimizer = opt)\n",
    "model.summary()\n"
   ]
  },
  {
   "cell_type": "code",
   "execution_count": 29,
   "metadata": {},
   "outputs": [
    {
     "name": "stdout",
     "output_type": "stream",
     "text": [
      "Training ...\n",
      "Epoch 1/50\n",
      "230/230 [==============================] - 23s 99ms/step - loss: 0.2615 - val_loss: 0.2047\n",
      "Epoch 2/50\n",
      "230/230 [==============================] - 22s 98ms/step - loss: 0.2141 - val_loss: 0.2033\n",
      "Epoch 3/50\n",
      "230/230 [==============================] - 22s 98ms/step - loss: 0.2084 - val_loss: 0.2040\n",
      "Epoch 4/50\n",
      "230/230 [==============================] - 24s 103ms/step - loss: 0.2065 - val_loss: 0.2028\n",
      "Epoch 5/50\n",
      "230/230 [==============================] - 24s 104ms/step - loss: 0.2049 - val_loss: 0.2040\n",
      "Epoch 6/50\n",
      "230/230 [==============================] - 22s 97ms/step - loss: 0.2034 - val_loss: 0.2029\n",
      "Epoch 7/50\n",
      "230/230 [==============================] - 19s 82ms/step - loss: 0.2022 - val_loss: 0.2035\n",
      "Epoch 8/50\n",
      "230/230 [==============================] - 19s 82ms/step - loss: 0.2013 - val_loss: 0.2048\n",
      "Epoch 9/50\n",
      "230/230 [==============================] - 19s 83ms/step - loss: 0.2006 - val_loss: 0.2031\n",
      "Epoch 10/50\n",
      "230/230 [==============================] - 19s 81ms/step - loss: 0.1994 - val_loss: 0.2042\n",
      "Epoch 11/50\n",
      "230/230 [==============================] - 20s 87ms/step - loss: 0.1984 - val_loss: 0.2039\n",
      "Epoch 12/50\n",
      "230/230 [==============================] - 22s 94ms/step - loss: 0.1980 - val_loss: 0.2036\n",
      "Epoch 13/50\n",
      "230/230 [==============================] - 19s 81ms/step - loss: 0.1965 - val_loss: 0.2033\n",
      "Epoch 14/50\n",
      "230/230 [==============================] - 17s 73ms/step - loss: 0.1957 - val_loss: 0.2052\n",
      "Epoch 15/50\n",
      "230/230 [==============================] - 16s 68ms/step - loss: 0.1945 - val_loss: 0.2051\n",
      "Epoch 16/50\n",
      "230/230 [==============================] - 17s 73ms/step - loss: 0.1937 - val_loss: 0.2056\n",
      "Epoch 17/50\n",
      "230/230 [==============================] - 16s 72ms/step - loss: 0.1929 - val_loss: 0.2057\n",
      "Epoch 18/50\n",
      "230/230 [==============================] - 16s 71ms/step - loss: 0.1917 - val_loss: 0.2049\n",
      "Epoch 19/50\n",
      "230/230 [==============================] - 17s 72ms/step - loss: 0.1906 - val_loss: 0.2064\n",
      "Epoch 20/50\n",
      "230/230 [==============================] - 17s 73ms/step - loss: 0.1900 - val_loss: 0.2063\n",
      "Epoch 21/50\n",
      "230/230 [==============================] - 17s 72ms/step - loss: 0.1890 - val_loss: 0.2069\n",
      "Epoch 22/50\n",
      "230/230 [==============================] - 17s 73ms/step - loss: 0.1882 - val_loss: 0.2067\n",
      "Epoch 23/50\n",
      "230/230 [==============================] - 17s 74ms/step - loss: 0.1874 - val_loss: 0.2073\n",
      "Epoch 24/50\n",
      "230/230 [==============================] - 18s 76ms/step - loss: 0.1867 - val_loss: 0.2065\n",
      "Epoch 25/50\n",
      "230/230 [==============================] - 17s 74ms/step - loss: 0.1861 - val_loss: 0.2072\n",
      "Epoch 26/50\n",
      "230/230 [==============================] - 17s 76ms/step - loss: 0.1850 - val_loss: 0.2077\n",
      "Epoch 27/50\n",
      "230/230 [==============================] - 17s 74ms/step - loss: 0.1845 - val_loss: 0.2079\n",
      "Epoch 28/50\n",
      "230/230 [==============================] - 17s 74ms/step - loss: 0.1838 - val_loss: 0.2086\n",
      "Epoch 29/50\n",
      "230/230 [==============================] - 19s 84ms/step - loss: 0.1835 - val_loss: 0.2082\n",
      "Epoch 30/50\n",
      "230/230 [==============================] - 18s 78ms/step - loss: 0.1830 - val_loss: 0.2084\n",
      "Epoch 31/50\n",
      "230/230 [==============================] - 16s 71ms/step - loss: 0.1824 - val_loss: 0.2080\n",
      "Epoch 32/50\n",
      "230/230 [==============================] - 18s 78ms/step - loss: 0.1821 - val_loss: 0.2080\n",
      "Epoch 33/50\n",
      "230/230 [==============================] - 17s 75ms/step - loss: 0.1815 - val_loss: 0.2074\n",
      "Epoch 34/50\n",
      "230/230 [==============================] - 17s 73ms/step - loss: 0.1812 - val_loss: 0.2081\n",
      "Epoch 35/50\n",
      "230/230 [==============================] - 18s 77ms/step - loss: 0.1805 - val_loss: 0.2083\n",
      "Epoch 36/50\n",
      "230/230 [==============================] - 19s 83ms/step - loss: 0.1802 - val_loss: 0.2089\n",
      "Epoch 37/50\n",
      "230/230 [==============================] - 18s 77ms/step - loss: 0.1800 - val_loss: 0.2083\n",
      "Epoch 38/50\n",
      "230/230 [==============================] - 18s 76ms/step - loss: 0.1796 - val_loss: 0.2083\n",
      "Epoch 39/50\n",
      "230/230 [==============================] - 20s 85ms/step - loss: 0.1792 - val_loss: 0.2091\n",
      "Epoch 40/50\n",
      "230/230 [==============================] - 17s 74ms/step - loss: 0.1791 - val_loss: 0.2081\n",
      "Epoch 41/50\n",
      "230/230 [==============================] - 17s 75ms/step - loss: 0.1787 - val_loss: 0.2084\n",
      "Epoch 42/50\n",
      "230/230 [==============================] - 20s 86ms/step - loss: 0.1786 - val_loss: 0.2085\n",
      "Epoch 43/50\n",
      "230/230 [==============================] - 18s 78ms/step - loss: 0.1785 - val_loss: 0.2089\n",
      "Epoch 44/50\n",
      "230/230 [==============================] - 17s 75ms/step - loss: 0.1782 - val_loss: 0.2089\n",
      "Epoch 45/50\n",
      "230/230 [==============================] - 17s 76ms/step - loss: 0.1777 - val_loss: 0.2087\n",
      "Epoch 46/50\n",
      "230/230 [==============================] - 17s 75ms/step - loss: 0.1777 - val_loss: 0.2092\n",
      "Epoch 47/50\n",
      "230/230 [==============================] - 18s 79ms/step - loss: 0.1774 - val_loss: 0.2089\n",
      "Epoch 48/50\n",
      "230/230 [==============================] - 18s 77ms/step - loss: 0.1773 - val_loss: 0.2081\n",
      "Epoch 49/50\n",
      "230/230 [==============================] - 18s 78ms/step - loss: 0.1772 - val_loss: 0.2086\n",
      "Epoch 50/50\n",
      "230/230 [==============================] - 17s 72ms/step - loss: 0.1767 - val_loss: 0.2078\n"
     ]
    },
    {
     "data": {
      "text/plain": [
       "<tensorflow.python.keras.callbacks.History at 0x7f04c4296670>"
      ]
     },
     "execution_count": 29,
     "metadata": {},
     "output_type": "execute_result"
    }
   ],
   "source": [
    "# hyperparamètres\n",
    "epochs = 50\n",
    "batch_size = 64\n",
    "\n",
    "# training\n",
    "print(\"Training ...\")\n",
    "model.fit(X_train, y_train,\n",
    "          batch_size=batch_size,\n",
    "          epochs=epochs,\n",
    "          validation_data=(X_test, y_test))"
   ]
  },
  {
   "cell_type": "code",
   "execution_count": 30,
   "metadata": {},
   "outputs": [],
   "source": [
    "proba = model.predict(X_train)"
   ]
  },
  {
   "cell_type": "code",
   "execution_count": 31,
   "metadata": {},
   "outputs": [
    {
     "name": "stdout",
     "output_type": "stream",
     "text": [
      "[0.7282461  0.71484053 0.6941715  0.7409907  0.70451    0.7350548\n",
      " 0.72047114 0.70879865 0.7215136  0.7278557  0.70899785 0.74537796\n",
      " 0.7204546  0.6973832  0.70884585 0.71870995 0.7253165  0.7125609\n",
      " 0.74284387 0.68233067 0.6780529  0.699715   0.71877724 0.7211054\n",
      " 0.7056892  0.67990583 0.6987027  0.73014843 0.70430374 0.6972923\n",
      " 0.719298   0.701437   0.70477253 0.6777748  0.7021182  0.745227\n",
      " 0.71740425 0.6827823  0.7357174  0.69521403 0.7539677  0.6891929\n",
      " 0.6933629  0.706938   0.7094521  0.7605224  0.7168398  0.7025902\n",
      " 0.6965906  0.6961489  0.6973293  0.70584756 0.721261   0.72199166\n",
      " 0.73237276 0.7278678  0.72395086 0.6544146  0.7215734  0.68234724\n",
      " 0.6939244  0.6989778  0.7084781  0.70656604 0.6999239  0.71808267\n",
      " 0.7141762  0.7497333  0.7283159  0.75045264 0.7187079  0.74589354\n",
      " 0.6984762  0.74149054 0.74054986 0.76183695 0.7380772  0.7440549\n",
      " 0.7395382  0.7329122  0.7190939  0.70207286]\n"
     ]
    }
   ],
   "source": [
    "print(proba[5])"
   ]
  },
  {
   "cell_type": "code",
   "execution_count": null,
   "metadata": {},
   "outputs": [],
   "source": []
  }
 ],
 "metadata": {
  "kernelspec": {
   "display_name": "Python 3",
   "language": "python",
   "name": "python3"
  },
  "language_info": {
   "codemirror_mode": {
    "name": "ipython",
    "version": 3
   },
   "file_extension": ".py",
   "mimetype": "text/x-python",
   "name": "python",
   "nbconvert_exporter": "python",
   "pygments_lexer": "ipython3",
   "version": "3.8.5"
  }
 },
 "nbformat": 4,
 "nbformat_minor": 4
}
