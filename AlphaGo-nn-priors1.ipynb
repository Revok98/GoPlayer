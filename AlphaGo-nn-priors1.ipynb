{
 "cells": [
  {
   "cell_type": "code",
   "execution_count": 1,
   "metadata": {},
   "outputs": [],
   "source": [
    "import tensorflow.keras\n",
    "from tensorflow.keras import regularizers\n",
    "from tensorflow.keras.models import Sequential\n",
    "from tensorflow.keras.layers import Dense, Dropout, Activation, Flatten\n",
    "from tensorflow.keras.layers import Conv2D, BatchNormalization, LocallyConnected2D, SeparableConv2D\n",
    "import tensorflow.keras.optimizers as optimizers\n",
    "from tensorflow.keras.constraints import max_norm\n",
    "import numpy as np\n",
    "from sklearn.model_selection import train_test_split\n",
    "from tensorflow.keras.callbacks import Callback\n",
    "from tensorflow.keras import activations"
   ]
  },
  {
   "cell_type": "code",
   "execution_count": 2,
   "metadata": {},
   "outputs": [],
   "source": [
    "from import_data import import_data"
   ]
  },
  {
   "cell_type": "code",
   "execution_count": 3,
   "metadata": {
    "scrolled": false
   },
   "outputs": [
    {
     "name": "stdout",
     "output_type": "stream",
     "text": [
      "153 parties rejetées par le goban, reste 5835 parties\n",
      "(37344, 9, 9, 4)\n",
      "(37344, 82)\n"
     ]
    }
   ],
   "source": [
    "X, y, _ = import_data()\n",
    "\n",
    "X_train, X_test, y_train, y_test = train_test_split(X, y, test_size=0.2)\n",
    "\n",
    "print(X_train.shape)\n",
    "print(y_train.shape)"
   ]
  },
  {
   "cell_type": "code",
   "execution_count": 4,
   "metadata": {},
   "outputs": [
    {
     "name": "stdout",
     "output_type": "stream",
     "text": [
      "Model: \"sequential\"\n",
      "_________________________________________________________________\n",
      "Layer (type)                 Output Shape              Param #   \n",
      "=================================================================\n",
      "conv2d (Conv2D)              (None, 9, 9, 128)         4736      \n",
      "_________________________________________________________________\n",
      "conv2d_1 (Conv2D)            (None, 9, 9, 64)          73792     \n",
      "_________________________________________________________________\n",
      "batch_normalization (BatchNo (None, 9, 9, 64)          256       \n",
      "_________________________________________________________________\n",
      "conv2d_2 (Conv2D)            (None, 9, 9, 64)          36928     \n",
      "_________________________________________________________________\n",
      "batch_normalization_1 (Batch (None, 9, 9, 64)          256       \n",
      "_________________________________________________________________\n",
      "flatten (Flatten)            (None, 5184)              0         \n",
      "_________________________________________________________________\n",
      "dense (Dense)                (None, 512)               2654720   \n",
      "_________________________________________________________________\n",
      "dropout (Dropout)            (None, 512)               0         \n",
      "_________________________________________________________________\n",
      "dense_1 (Dense)              (None, 256)               131328    \n",
      "_________________________________________________________________\n",
      "dropout_1 (Dropout)          (None, 256)               0         \n",
      "_________________________________________________________________\n",
      "dense_2 (Dense)              (None, 82)                21074     \n",
      "=================================================================\n",
      "Total params: 2,923,090\n",
      "Trainable params: 2,922,834\n",
      "Non-trainable params: 256\n",
      "_________________________________________________________________\n"
     ]
    }
   ],
   "source": [
    "l2 = 0.01\n",
    "model = Sequential()\n",
    "model.add(Conv2D(128, kernel_size=3, input_shape=X[0].shape, padding =\"same\", kernel_regularizer=regularizers.l2(l2)))\n",
    "model.add(Conv2D(64, kernel_size=3, padding =\"same\", kernel_regularizer=regularizers.l2(l2)))\n",
    "model.add(BatchNormalization())\n",
    "model.add(Conv2D(64, kernel_size=3, padding =\"same\", kernel_regularizer=regularizers.l2(l2)))\n",
    "model.add(BatchNormalization())\n",
    "model.add(Flatten())\n",
    "model.add(Dense(512, activation='relu', kernel_regularizer=regularizers.l2(l2)))\n",
    "model.add(Dropout(0.2))\n",
    "model.add(Dense(256, activation='relu', kernel_regularizer=regularizers.l2(l2)))\n",
    "model.add(Dropout(0.2))\n",
    "model.add(Dense(82, activation='sigmoid', kernel_regularizer=regularizers.l2(l2))) \n",
    "\n",
    "#opt = optimizers.RMSprop(learning_rate=0.01, momentum=0.9)\n",
    "opt = optimizers.Adam()\n",
    "model.compile(loss='mean_squared_error', optimizer=opt, metrics=['mean_absolute_error'])\n",
    "model.summary()\n"
   ]
  },
  {
   "cell_type": "code",
   "execution_count": 5,
   "metadata": {
    "scrolled": true
   },
   "outputs": [
    {
     "name": "stdout",
     "output_type": "stream",
     "text": [
      "Training ...\n",
      "Epoch 1/10\n",
      "292/292 [==============================] - 4s 15ms/step - loss: 0.9528 - mean_absolute_error: 0.2074 - val_loss: 0.1498 - val_mean_absolute_error: 0.3251\n",
      "Epoch 2/10\n",
      "292/292 [==============================] - 4s 14ms/step - loss: 0.0809 - mean_absolute_error: 0.1995 - val_loss: 0.1049 - val_mean_absolute_error: 0.2668\n",
      "Epoch 3/10\n",
      "292/292 [==============================] - 4s 14ms/step - loss: 0.0797 - mean_absolute_error: 0.1982 - val_loss: 0.0920 - val_mean_absolute_error: 0.1733\n",
      "Epoch 4/10\n",
      "292/292 [==============================] - 4s 14ms/step - loss: 0.0793 - mean_absolute_error: 0.1973 - val_loss: 0.0826 - val_mean_absolute_error: 0.2214\n",
      "Epoch 5/10\n",
      "292/292 [==============================] - 4s 14ms/step - loss: 0.0786 - mean_absolute_error: 0.1967 - val_loss: 0.1437 - val_mean_absolute_error: 0.2286\n",
      "Epoch 6/10\n",
      "292/292 [==============================] - 4s 14ms/step - loss: 0.0779 - mean_absolute_error: 0.1960 - val_loss: 0.0788 - val_mean_absolute_error: 0.2088\n",
      "Epoch 7/10\n",
      "292/292 [==============================] - 4s 14ms/step - loss: 0.0775 - mean_absolute_error: 0.1956 - val_loss: 0.0786 - val_mean_absolute_error: 0.2079\n",
      "Epoch 8/10\n",
      "292/292 [==============================] - 4s 14ms/step - loss: 0.0766 - mean_absolute_error: 0.1950 - val_loss: 0.0766 - val_mean_absolute_error: 0.1983\n",
      "Epoch 9/10\n",
      "292/292 [==============================] - 4s 14ms/step - loss: 0.0835 - mean_absolute_error: 0.1976 - val_loss: 0.1044 - val_mean_absolute_error: 0.2696\n",
      "Epoch 10/10\n",
      "292/292 [==============================] - 4s 14ms/step - loss: 0.0759 - mean_absolute_error: 0.1945 - val_loss: 0.0782 - val_mean_absolute_error: 0.2113\n"
     ]
    },
    {
     "data": {
      "text/plain": [
       "<tensorflow.python.keras.callbacks.History at 0x7fbc60776f28>"
      ]
     },
     "execution_count": 5,
     "metadata": {},
     "output_type": "execute_result"
    }
   ],
   "source": [
    "# hyperparamètres\n",
    "epochs = 10\n",
    "batch_size = 128\n",
    "\n",
    "# training\n",
    "print(\"Training ...\")\n",
    "model.fit(X_train, y_train,\n",
    "          batch_size=batch_size,\n",
    "          epochs=epochs,\n",
    "          validation_data=(X_test, y_test))"
   ]
  },
  {
   "cell_type": "code",
   "execution_count": 31,
   "metadata": {},
   "outputs": [],
   "source": [
    "proba = model.predict(X_train)"
   ]
  },
  {
   "cell_type": "code",
   "execution_count": 32,
   "metadata": {},
   "outputs": [
    {
     "name": "stdout",
     "output_type": "stream",
     "text": [
      "[0.5011088  0.5065884  0.50180507 0.50163645 0.5018956  0.50163513\n",
      " 0.5015248  0.49934635 0.5011458  0.5031197  0.5042301  0.50360703\n",
      " 0.50094414 0.49957764 0.50129557 0.5030304  0.50164336 0.5032757\n",
      " 0.50083464 0.50298893 0.5019576  0.5072333  0.4980696  0.5038169\n",
      " 0.5007657  0.5045776  0.5009092  0.5007753  0.5002029  0.5054479\n",
      " 0.5032246  0.4959061  0.5030258  0.50773364 0.5017242  0.50663143\n",
      " 0.5019292  0.5009095  0.49783373 0.5008707  0.5050464  0.49938262\n",
      " 0.4964479  0.50281775 0.50165486 0.50129116 0.499834   0.50720555\n",
      " 0.5037054  0.49855343 0.50552213 0.506981   0.5002532  0.50160986\n",
      " 0.4979841  0.5006192  0.50021255 0.50713956 0.4958895  0.5070673\n",
      " 0.5002522  0.50346935 0.50137794 0.5017547  0.50443196 0.5042616\n",
      " 0.5018245  0.50204754 0.5042344  0.50246674 0.50479895 0.50161195\n",
      " 0.5024987  0.5001665  0.5016533  0.50163794 0.50364214 0.50026035\n",
      " 0.500437   0.50349444 0.5012306  0.50256395]\n"
     ]
    }
   ],
   "source": [
    "print(proba[5])"
   ]
  },
  {
   "cell_type": "code",
   "execution_count": null,
   "metadata": {},
   "outputs": [],
   "source": []
  },
  {
   "cell_type": "code",
   "execution_count": null,
   "metadata": {},
   "outputs": [],
   "source": []
  }
 ],
 "metadata": {
  "kernelspec": {
   "display_name": "Python 3",
   "language": "python",
   "name": "python3"
  },
  "language_info": {
   "codemirror_mode": {
    "name": "ipython",
    "version": 3
   },
   "file_extension": ".py",
   "mimetype": "text/x-python",
   "name": "python",
   "nbconvert_exporter": "python",
   "pygments_lexer": "ipython3",
   "version": "3.6.9"
  }
 },
 "nbformat": 4,
 "nbformat_minor": 4
}
