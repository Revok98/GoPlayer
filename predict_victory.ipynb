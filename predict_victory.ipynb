{
 "cells": [
  {
   "cell_type": "code",
   "execution_count": 1,
   "metadata": {},
   "outputs": [],
   "source": [
    "import numpy as np\n",
    "import tensorflow.keras\n",
    "from tensorflow.keras.models import Sequential\n",
    "from tensorflow.keras.layers import Dense, Dropout, Activation, Flatten, LeakyReLU\n",
    "from tensorflow.keras.layers import Conv2D, BatchNormalization, LocallyConnected2D, SeparableConv2D\n",
    "import tensorflow.keras.optimizers as optimizers\n",
    "from tensorflow.keras.constraints import max_norm\n",
    "import matplotlib.pyplot as plt\n",
    "from sklearn.model_selection import train_test_split\n",
    "from tensorflow.keras import activations\n",
    "from create_data_victory import History, create_all_x_y"
   ]
  },
  {
   "cell_type": "markdown",
   "metadata": {},
   "source": [
    "# Data creation"
   ]
  },
  {
   "cell_type": "code",
   "execution_count": 2,
   "metadata": {},
   "outputs": [
    {
     "name": "stdout",
     "output_type": "stream",
     "text": [
      "248 parties rejetées, reste 41563.0\n",
      "x shape: (332504, 9, 9, 11)\n",
      "y shape: (332504,)\n"
     ]
    }
   ],
   "source": [
    "x, y = create_all_x_y()\n",
    "print(f\"x shape: {x.shape}\")\n",
    "print(f\"y shape: {y.shape}\")"
   ]
  },
  {
   "cell_type": "code",
   "execution_count": 3,
   "metadata": {},
   "outputs": [
    {
     "name": "stdout",
     "output_type": "stream",
     "text": [
      "(299253, 9, 9, 11)\n",
      "(299253,)\n",
      "(33251, 9, 9, 11)\n",
      "(33251,)\n"
     ]
    }
   ],
   "source": [
    "X_train, X_test, y_train, y_test = train_test_split(x, y, test_size=0.1)\n",
    "\n",
    "print(X_train.shape)\n",
    "print(y_train.shape)\n",
    "print(X_test.shape)\n",
    "print(y_test.shape)"
   ]
  },
  {
   "cell_type": "markdown",
   "metadata": {},
   "source": [
    "# Model"
   ]
  },
  {
   "cell_type": "code",
   "execution_count": 8,
   "metadata": {},
   "outputs": [
    {
     "name": "stdout",
     "output_type": "stream",
     "text": [
      "Model: \"sequential_2\"\n",
      "_________________________________________________________________\n",
      "Layer (type)                 Output Shape              Param #   \n",
      "=================================================================\n",
      "conv2d_9 (Conv2D)            (None, 9, 9, 64)          6400      \n",
      "_________________________________________________________________\n",
      "batch_normalization_9 (Batch (None, 9, 9, 64)          256       \n",
      "_________________________________________________________________\n",
      "activation_9 (Activation)    (None, 9, 9, 64)          0         \n",
      "_________________________________________________________________\n",
      "conv2d_10 (Conv2D)           (None, 9, 9, 64)          36928     \n",
      "_________________________________________________________________\n",
      "batch_normalization_10 (Batc (None, 9, 9, 64)          256       \n",
      "_________________________________________________________________\n",
      "activation_10 (Activation)   (None, 9, 9, 64)          0         \n",
      "_________________________________________________________________\n",
      "conv2d_11 (Conv2D)           (None, 9, 9, 64)          36928     \n",
      "_________________________________________________________________\n",
      "batch_normalization_11 (Batc (None, 9, 9, 64)          256       \n",
      "_________________________________________________________________\n",
      "activation_11 (Activation)   (None, 9, 9, 64)          0         \n",
      "_________________________________________________________________\n",
      "conv2d_12 (Conv2D)           (None, 9, 9, 64)          36928     \n",
      "_________________________________________________________________\n",
      "batch_normalization_12 (Batc (None, 9, 9, 64)          256       \n",
      "_________________________________________________________________\n",
      "activation_12 (Activation)   (None, 9, 9, 64)          0         \n",
      "_________________________________________________________________\n",
      "conv2d_13 (Conv2D)           (None, 9, 9, 64)          36928     \n",
      "_________________________________________________________________\n",
      "batch_normalization_13 (Batc (None, 9, 9, 64)          256       \n",
      "_________________________________________________________________\n",
      "activation_13 (Activation)   (None, 9, 9, 64)          0         \n",
      "_________________________________________________________________\n",
      "conv2d_14 (Conv2D)           (None, 9, 9, 64)          36928     \n",
      "_________________________________________________________________\n",
      "batch_normalization_14 (Batc (None, 9, 9, 64)          256       \n",
      "_________________________________________________________________\n",
      "activation_14 (Activation)   (None, 9, 9, 64)          0         \n",
      "_________________________________________________________________\n",
      "flatten_2 (Flatten)          (None, 5184)              0         \n",
      "_________________________________________________________________\n",
      "dropout_5 (Dropout)          (None, 5184)              0         \n",
      "_________________________________________________________________\n",
      "dense_5 (Dense)              (None, 512)               2654720   \n",
      "_________________________________________________________________\n",
      "dropout_6 (Dropout)          (None, 512)               0         \n",
      "_________________________________________________________________\n",
      "dense_6 (Dense)              (None, 1)                 513       \n",
      "=================================================================\n",
      "Total params: 2,847,809\n",
      "Trainable params: 2,847,041\n",
      "Non-trainable params: 768\n",
      "_________________________________________________________________\n"
     ]
    }
   ],
   "source": [
    "model = Sequential()\n",
    "for _ in range(6):\n",
    "    model.add(Conv2D(64, kernel_size=(3,3), input_shape=x[0].shape, padding =\"same\", data_format=\"channels_last\"))\n",
    "    model.add(BatchNormalization())\n",
    "    model.add(Activation('relu'))\n",
    "model.add(Flatten())\n",
    "model.add(Dropout(0.5))\n",
    "model.add(Dense(512, activation='relu'))\n",
    "model.add(Dropout(0.5))\n",
    "model.add(Dense(1, activation='sigmoid'))\n",
    "\n",
    "model.compile(loss='mean_absolute_error', optimizer=optimizers.SGD(learning_rate=0.01, momentum=0.9))\n",
    "model.summary()"
   ]
  },
  {
   "cell_type": "markdown",
   "metadata": {},
   "source": [
    "# Training"
   ]
  },
  {
   "cell_type": "code",
   "execution_count": 9,
   "metadata": {},
   "outputs": [
    {
     "name": "stdout",
     "output_type": "stream",
     "text": [
      "Training ...\n",
      "Epoch 1/50\n",
      "  2/150 [..............................] - ETA: 21s - loss: 0.3456WARNING:tensorflow:Callbacks method `on_train_batch_end` is slow compared to the batch time (batch time: 0.1039s vs `on_train_batch_end` time: 0.1804s). Check your callbacks.\n",
      "150/150 [==============================] - 44s 294ms/step - loss: 0.2752 - val_loss: 0.3204\n",
      "Epoch 2/50\n",
      "150/150 [==============================] - 47s 314ms/step - loss: 0.2474 - val_loss: 0.2867\n",
      "Epoch 3/50\n",
      "150/150 [==============================] - 61s 408ms/step - loss: 0.2419 - val_loss: 0.2519\n",
      "Epoch 4/50\n",
      "150/150 [==============================] - 61s 409ms/step - loss: 0.2363 - val_loss: 0.2363\n",
      "Epoch 5/50\n",
      "150/150 [==============================] - 61s 409ms/step - loss: 0.2271 - val_loss: 0.2260\n",
      "Epoch 6/50\n",
      "150/150 [==============================] - 61s 408ms/step - loss: 0.2124 - val_loss: 0.2034\n",
      "Epoch 7/50\n",
      "150/150 [==============================] - 61s 409ms/step - loss: 0.1909 - val_loss: 0.1852\n",
      "Epoch 8/50\n",
      "150/150 [==============================] - 61s 409ms/step - loss: 0.1729 - val_loss: 0.1613\n",
      "Epoch 9/50\n",
      "150/150 [==============================] - 61s 408ms/step - loss: 0.1618 - val_loss: 0.1546\n",
      "Epoch 10/50\n",
      "150/150 [==============================] - 61s 409ms/step - loss: 0.1544 - val_loss: 0.1507\n",
      "Epoch 11/50\n",
      "150/150 [==============================] - 61s 408ms/step - loss: 0.1486 - val_loss: 0.1473\n",
      "Epoch 12/50\n",
      "150/150 [==============================] - 61s 408ms/step - loss: 0.1450 - val_loss: 0.1440\n",
      "Epoch 13/50\n",
      "150/150 [==============================] - 61s 408ms/step - loss: 0.1421 - val_loss: 0.1407\n",
      "Epoch 14/50\n",
      "150/150 [==============================] - 61s 409ms/step - loss: 0.1384 - val_loss: 0.1387\n",
      "Epoch 15/50\n",
      "150/150 [==============================] - 61s 409ms/step - loss: 0.1366 - val_loss: 0.1378\n",
      "Epoch 16/50\n",
      "150/150 [==============================] - 61s 408ms/step - loss: 0.1339 - val_loss: 0.1348\n",
      "Epoch 17/50\n",
      "150/150 [==============================] - 61s 409ms/step - loss: 0.1317 - val_loss: 0.1362\n",
      "Epoch 18/50\n",
      "150/150 [==============================] - 61s 408ms/step - loss: 0.1296 - val_loss: 0.1327\n",
      "Epoch 19/50\n",
      "150/150 [==============================] - 61s 408ms/step - loss: 0.1280 - val_loss: 0.1327\n",
      "Epoch 20/50\n",
      "150/150 [==============================] - 61s 409ms/step - loss: 0.1268 - val_loss: 0.1297\n",
      "Epoch 21/50\n",
      "150/150 [==============================] - 61s 408ms/step - loss: 0.1252 - val_loss: 0.1285\n",
      "Epoch 22/50\n",
      "150/150 [==============================] - 61s 408ms/step - loss: 0.1240 - val_loss: 0.1296\n",
      "Epoch 23/50\n",
      "150/150 [==============================] - 61s 408ms/step - loss: 0.1225 - val_loss: 0.1272\n",
      "Epoch 24/50\n",
      "150/150 [==============================] - 61s 408ms/step - loss: 0.1212 - val_loss: 0.1275\n",
      "Epoch 25/50\n",
      "150/150 [==============================] - 61s 409ms/step - loss: 0.1206 - val_loss: 0.1279\n",
      "Epoch 26/50\n",
      "150/150 [==============================] - 61s 409ms/step - loss: 0.1189 - val_loss: 0.1266\n",
      "Epoch 27/50\n",
      "150/150 [==============================] - 61s 408ms/step - loss: 0.1186 - val_loss: 0.1277\n",
      "Epoch 28/50\n",
      "150/150 [==============================] - 61s 408ms/step - loss: 0.1170 - val_loss: 0.1270\n",
      "Epoch 29/50\n",
      "150/150 [==============================] - 61s 409ms/step - loss: 0.1163 - val_loss: 0.1242\n",
      "Epoch 30/50\n",
      "150/150 [==============================] - 61s 409ms/step - loss: 0.1152 - val_loss: 0.1224\n",
      "Epoch 31/50\n",
      "150/150 [==============================] - 61s 408ms/step - loss: 0.1145 - val_loss: 0.1237\n",
      "Epoch 32/50\n",
      "150/150 [==============================] - 61s 408ms/step - loss: 0.1132 - val_loss: 0.1256\n",
      "Epoch 33/50\n",
      "150/150 [==============================] - 61s 408ms/step - loss: 0.1126 - val_loss: 0.1227\n",
      "Epoch 34/50\n",
      "150/150 [==============================] - 61s 408ms/step - loss: 0.1124 - val_loss: 0.1247\n",
      "Epoch 35/50\n",
      "150/150 [==============================] - 61s 408ms/step - loss: 0.1120 - val_loss: 0.1214\n",
      "Epoch 36/50\n",
      "150/150 [==============================] - 61s 408ms/step - loss: 0.1106 - val_loss: 0.1210\n",
      "Epoch 37/50\n",
      "150/150 [==============================] - 61s 409ms/step - loss: 0.1096 - val_loss: 0.1237\n",
      "Epoch 38/50\n",
      "150/150 [==============================] - 61s 408ms/step - loss: 0.1092 - val_loss: 0.1227\n",
      "Epoch 39/50\n",
      "150/150 [==============================] - 61s 408ms/step - loss: 0.1087 - val_loss: 0.1201\n",
      "Epoch 40/50\n",
      "150/150 [==============================] - 61s 408ms/step - loss: 0.1077 - val_loss: 0.1210\n",
      "Epoch 41/50\n",
      "150/150 [==============================] - 61s 408ms/step - loss: 0.1077 - val_loss: 0.1195\n",
      "Epoch 42/50\n",
      "150/150 [==============================] - 61s 408ms/step - loss: 0.1070 - val_loss: 0.1215\n",
      "Epoch 43/50\n",
      "150/150 [==============================] - 61s 408ms/step - loss: 0.1057 - val_loss: 0.1199\n",
      "Epoch 44/50\n",
      "150/150 [==============================] - 61s 408ms/step - loss: 0.1051 - val_loss: 0.1191\n",
      "Epoch 45/50\n",
      "150/150 [==============================] - 61s 408ms/step - loss: 0.1045 - val_loss: 0.1201\n",
      "Epoch 46/50\n",
      "150/150 [==============================] - 61s 408ms/step - loss: 0.1037 - val_loss: 0.1190\n",
      "Epoch 47/50\n",
      "150/150 [==============================] - 61s 408ms/step - loss: 0.1039 - val_loss: 0.1197\n",
      "Epoch 48/50\n",
      "150/150 [==============================] - 61s 408ms/step - loss: 0.1029 - val_loss: 0.1255\n",
      "Epoch 49/50\n",
      "150/150 [==============================] - 61s 408ms/step - loss: 0.1032 - val_loss: 0.1183\n",
      "Epoch 50/50\n",
      "150/150 [==============================] - 61s 408ms/step - loss: 0.1016 - val_loss: 0.1172\n"
     ]
    },
    {
     "data": {
      "text/plain": [
       "<tensorflow.python.keras.callbacks.History at 0x7f27ba9c6c88>"
      ]
     },
     "execution_count": 9,
     "metadata": {},
     "output_type": "execute_result"
    }
   ],
   "source": [
    "history=[History()]\n",
    "# hyperparamètres\n",
    "epochs = 50\n",
    "batch_size = 2000\n",
    "# training\n",
    "print(\"Training ...\")\n",
    "model.fit(X_train, y_train,\n",
    "          batch_size=batch_size,\n",
    "          epochs=epochs,\n",
    "          validation_data=(X_test, y_test),\n",
    "          callbacks=history)"
   ]
  },
  {
   "cell_type": "markdown",
   "metadata": {},
   "source": [
    "# Statistics"
   ]
  },
  {
   "cell_type": "code",
   "execution_count": 10,
   "metadata": {},
   "outputs": [
    {
     "data": {
      "image/png": "[encoded data removed]",
      "text/plain": [
       "<Figure size 432x288 with 1 Axes>"
      ]
     },
     "metadata": {
      "needs_background": "light"
     },
     "output_type": "display_data"
    }
   ],
   "source": [
    "#Print model loss\n",
    "plt.plot(history[0].history['loss'])\n",
    "plt.plot(history[0].history['val_loss'])\n",
    "plt.title('Model Loss (on training data)')\n",
    "plt.ylabel('loss')\n",
    "plt.xlabel('epoch')\n",
    "plt.legend(['Loss', 'Loss (val)'])\n",
    "plt.show()"
   ]
  },
  {
   "cell_type": "code",
   "execution_count": 11,
   "metadata": {},
   "outputs": [
    {
     "name": "stdout",
     "output_type": "stream",
     "text": [
      "[0.65 1.   0.97 0.   0.   0.13 0.7  0.67 1.   1.   0.89 1.   1.   0.56]\n",
      "[0.72 1.   0.83 0.   0.   0.69 0.58 0.6  0.65 1.   0.88 1.   1.   0.82]\n"
     ]
    }
   ],
   "source": [
    "sample_size = 14\n",
    "print(y_test[:sample_size])\n",
    "print(np.round(model.predict(X_test[:sample_size]).reshape((sample_size,)), 2))"
   ]
  }
 ],
 "metadata": {
  "kernelspec": {
   "display_name": "Python 3",
   "language": "python",
   "name": "python3"
  },
  "language_info": {
   "codemirror_mode": {
    "name": "ipython",
    "version": 3
   },
   "file_extension": ".py",
   "mimetype": "text/x-python",
   "name": "python",
   "nbconvert_exporter": "python",
   "pygments_lexer": "ipython3",
   "version": "3.6.9"
  }
 },
 "nbformat": 4,
 "nbformat_minor": 4
}
