{
 "cells": [
  {
   "cell_type": "code",
   "execution_count": 1,
   "metadata": {},
   "outputs": [],
   "source": [
    "import numpy as np\n",
    "import tensorflow.keras\n",
    "from tensorflow.keras.models import Sequential\n",
    "from tensorflow.keras.layers import Dense, Dropout, Activation, Flatten, LeakyReLU\n",
    "from tensorflow.keras.layers import Conv2D, BatchNormalization, LocallyConnected2D, SeparableConv2D\n",
    "import tensorflow.keras.optimizers as optimizers\n",
    "from tensorflow.keras.constraints import max_norm\n",
    "import matplotlib.pyplot as plt\n",
    "from sklearn.model_selection import train_test_split\n",
    "from tensorflow.keras import activations\n",
    "from create_data_victory import History, create_all_x_y"
   ]
  },
  {
   "cell_type": "markdown",
   "metadata": {},
   "source": [
    "# Data creation"
   ]
  },
  {
   "cell_type": "code",
   "execution_count": null,
   "metadata": {},
   "outputs": [],
   "source": [
    "x, y = create_all_x_y()\n",
    "print(f\"x shape: {x.shape}\")\n",
    "print(f\"y shape: {y.shape}\")"
   ]
  },
  {
   "cell_type": "code",
   "execution_count": 3,
   "metadata": {},
   "outputs": [
    {
     "name": "stdout",
     "output_type": "stream",
     "text": [
      "(299253, 9, 9, 11)\n",
      "(299253,)\n",
      "(33251, 9, 9, 11)\n",
      "(33251,)\n"
     ]
    }
   ],
   "source": [
    "X_train, X_test, y_train, y_test = train_test_split(x, y, test_size=0.1)\n",
    "\n",
    "print(X_train.shape)\n",
    "print(y_train.shape)\n",
    "print(X_test.shape)\n",
    "print(y_test.shape)"
   ]
  },
  {
   "cell_type": "markdown",
   "metadata": {},
   "source": [
    "# Model"
   ]
  },
  {
   "cell_type": "code",
   "execution_count": 8,
   "metadata": {},
   "outputs": [
    {
     "name": "stdout",
     "output_type": "stream",
     "text": [
      "Model: \"sequential_2\"\n",
      "_________________________________________________________________\n",
      "Layer (type)                 Output Shape              Param #   \n",
      "=================================================================\n",
      "conv2d_12 (Conv2D)           (None, 9, 9, 64)          6400      \n",
      "_________________________________________________________________\n",
      "batch_normalization_12 (Batc (None, 9, 9, 64)          256       \n",
      "_________________________________________________________________\n",
      "activation_12 (Activation)   (None, 9, 9, 64)          0         \n",
      "_________________________________________________________________\n",
      "conv2d_13 (Conv2D)           (None, 9, 9, 64)          36928     \n",
      "_________________________________________________________________\n",
      "batch_normalization_13 (Batc (None, 9, 9, 64)          256       \n",
      "_________________________________________________________________\n",
      "activation_13 (Activation)   (None, 9, 9, 64)          0         \n",
      "_________________________________________________________________\n",
      "conv2d_14 (Conv2D)           (None, 9, 9, 64)          36928     \n",
      "_________________________________________________________________\n",
      "batch_normalization_14 (Batc (None, 9, 9, 64)          256       \n",
      "_________________________________________________________________\n",
      "activation_14 (Activation)   (None, 9, 9, 64)          0         \n",
      "_________________________________________________________________\n",
      "conv2d_15 (Conv2D)           (None, 9, 9, 128)         73856     \n",
      "_________________________________________________________________\n",
      "batch_normalization_15 (Batc (None, 9, 9, 128)         512       \n",
      "_________________________________________________________________\n",
      "activation_15 (Activation)   (None, 9, 9, 128)         0         \n",
      "_________________________________________________________________\n",
      "conv2d_16 (Conv2D)           (None, 9, 9, 128)         147584    \n",
      "_________________________________________________________________\n",
      "batch_normalization_16 (Batc (None, 9, 9, 128)         512       \n",
      "_________________________________________________________________\n",
      "activation_16 (Activation)   (None, 9, 9, 128)         0         \n",
      "_________________________________________________________________\n",
      "conv2d_17 (Conv2D)           (None, 9, 9, 128)         147584    \n",
      "_________________________________________________________________\n",
      "batch_normalization_17 (Batc (None, 9, 9, 128)         512       \n",
      "_________________________________________________________________\n",
      "activation_17 (Activation)   (None, 9, 9, 128)         0         \n",
      "_________________________________________________________________\n",
      "flatten_2 (Flatten)          (None, 10368)             0         \n",
      "_________________________________________________________________\n",
      "dropout_6 (Dropout)          (None, 10368)             0         \n",
      "_________________________________________________________________\n",
      "dense_6 (Dense)              (None, 512)               5308928   \n",
      "_________________________________________________________________\n",
      "dropout_7 (Dropout)          (None, 512)               0         \n",
      "_________________________________________________________________\n",
      "dense_7 (Dense)              (None, 256)               131328    \n",
      "_________________________________________________________________\n",
      "dropout_8 (Dropout)          (None, 256)               0         \n",
      "_________________________________________________________________\n",
      "dense_8 (Dense)              (None, 1)                 257       \n",
      "=================================================================\n",
      "Total params: 5,892,097\n",
      "Trainable params: 5,890,945\n",
      "Non-trainable params: 1,152\n",
      "_________________________________________________________________\n"
     ]
    }
   ],
   "source": [
    "model = Sequential()\n",
    "for _ in range(3):\n",
    "    model.add(Conv2D(64, kernel_size=(3,3), input_shape=x[0].shape, padding =\"same\", data_format=\"channels_last\"))\n",
    "    model.add(BatchNormalization())\n",
    "    model.add(Activation('relu'))\n",
    "for _ in range(3):\n",
    "    model.add(Conv2D(128, kernel_size=(3,3), padding =\"same\", data_format=\"channels_last\"))\n",
    "    model.add(BatchNormalization())\n",
    "    model.add(Activation('relu'))\n",
    "model.add(Flatten())\n",
    "model.add(Dropout(0.5))\n",
    "model.add(Dense(512, activation='relu'))\n",
    "model.add(Dropout(0.5))\n",
    "model.add(Dense(256, activation='relu'))\n",
    "model.add(Dropout(0.5))\n",
    "model.add(Dense(1, activation='sigmoid'))\n",
    "\n",
    "model.compile(loss='mean_absolute_error', optimizer=optimizers.SGD(learning_rate=0.01, momentum=0.8))\n",
    "model.summary()"
   ]
  },
  {
   "cell_type": "markdown",
   "metadata": {},
   "source": [
    "# Training"
   ]
  },
  {
   "cell_type": "code",
   "execution_count": null,
   "metadata": {},
   "outputs": [
    {
     "name": "stdout",
     "output_type": "stream",
     "text": [
      "Training ...\n",
      "Epoch 1/50\n",
      "  2/599 [..............................] - ETA: 26s - loss: 0.3646WARNING:tensorflow:Callbacks method `on_train_batch_end` is slow compared to the batch time (batch time: 0.0329s vs `on_train_batch_end` time: 0.0546s). Check your callbacks.\n",
      "599/599 [==============================] - 59s 98ms/step - loss: 0.2622 - val_loss: 0.2510\n",
      "Epoch 2/50\n",
      "599/599 [==============================] - 64s 106ms/step - loss: 0.2421 - val_loss: 0.2418\n",
      "Epoch 3/50\n",
      "599/599 [==============================] - 66s 110ms/step - loss: 0.2331 - val_loss: 0.2221\n",
      "Epoch 4/50\n",
      "599/599 [==============================] - 67s 112ms/step - loss: 0.2067 - val_loss: 0.1880\n",
      "Epoch 5/50\n",
      "599/599 [==============================] - 68s 113ms/step - loss: 0.1720 - val_loss: 0.1549\n",
      "Epoch 6/50\n",
      "599/599 [==============================] - 71s 119ms/step - loss: 0.1552 - val_loss: 0.1460\n",
      "Epoch 7/50\n",
      "599/599 [==============================] - 71s 119ms/step - loss: 0.1464 - val_loss: 0.1424\n",
      "Epoch 8/50\n",
      "599/599 [==============================] - 71s 119ms/step - loss: 0.1406 - val_loss: 0.1441\n",
      "Epoch 9/50\n",
      "599/599 [==============================] - 72s 121ms/step - loss: 0.1361 - val_loss: 0.1340\n",
      "Epoch 10/50\n",
      "599/599 [==============================] - 72s 121ms/step - loss: 0.1327 - val_loss: 0.1385\n",
      "Epoch 11/50\n",
      "599/599 [==============================] - 73s 122ms/step - loss: 0.1296 - val_loss: 0.1335\n",
      "Epoch 12/50\n",
      "599/599 [==============================] - 77s 128ms/step - loss: 0.1275 - val_loss: 0.1314\n",
      "Epoch 13/50\n",
      "599/599 [==============================] - 77s 128ms/step - loss: 0.1251 - val_loss: 0.1288\n",
      "Epoch 14/50\n",
      "599/599 [==============================] - 77s 128ms/step - loss: 0.1229 - val_loss: 0.1286\n",
      "Epoch 15/50\n",
      "599/599 [==============================] - 77s 128ms/step - loss: 0.1216 - val_loss: 0.1279\n",
      "Epoch 16/50\n",
      "599/599 [==============================] - 77s 128ms/step - loss: 0.1199 - val_loss: 0.1264\n",
      "Epoch 17/50\n",
      "599/599 [==============================] - 77s 128ms/step - loss: 0.1182 - val_loss: 0.1268\n",
      "Epoch 18/50\n",
      "599/599 [==============================] - 78s 129ms/step - loss: 0.1171 - val_loss: 0.1259\n",
      "Epoch 19/50\n",
      "599/599 [==============================] - 80s 134ms/step - loss: 0.1161 - val_loss: 0.1258\n",
      "Epoch 20/50\n",
      "599/599 [==============================] - 80s 134ms/step - loss: 0.1145 - val_loss: 0.1257\n",
      "Epoch 21/50\n",
      "599/599 [==============================] - 81s 134ms/step - loss: 0.1130 - val_loss: 0.1219\n",
      "Epoch 22/50\n",
      "599/599 [==============================] - 81s 134ms/step - loss: 0.1121 - val_loss: 0.1276\n",
      "Epoch 23/50\n",
      "599/599 [==============================] - 82s 136ms/step - loss: 0.1110 - val_loss: 0.1215\n",
      "Epoch 24/50\n",
      "599/599 [==============================] - 82s 137ms/step - loss: 0.1102 - val_loss: 0.1220\n",
      "Epoch 25/50\n",
      "599/599 [==============================] - 84s 141ms/step - loss: 0.1093 - val_loss: 0.1217\n",
      "Epoch 26/50\n",
      "599/599 [==============================] - 84s 141ms/step - loss: 0.1081 - val_loss: 0.1270\n",
      "Epoch 27/50\n",
      "599/599 [==============================] - 84s 141ms/step - loss: 0.1075 - val_loss: 0.1229\n",
      "Epoch 28/50\n",
      "599/599 [==============================] - 84s 141ms/step - loss: 0.1064 - val_loss: 0.1243\n",
      "Epoch 29/50\n",
      "599/599 [==============================] - ETA: 0s - loss: 0.1053"
     ]
    }
   ],
   "source": [
    "history=[History()]\n",
    "# hyperparamètres\n",
    "epochs = 50\n",
    "batch_size = 500\n",
    "# training\n",
    "print(\"Training ...\")\n",
    "model.fit(X_train, y_train,\n",
    "          batch_size=batch_size,\n",
    "          epochs=epochs,\n",
    "          validation_data=(X_test, y_test),\n",
    "          callbacks=history)"
   ]
  },
  {
   "cell_type": "markdown",
   "metadata": {},
   "source": [
    "# Statistics"
   ]
  },
  {
   "cell_type": "code",
   "execution_count": null,
   "metadata": {},
   "outputs": [],
   "source": [
    "#Print model loss\n",
    "plt.plot(history[0].history['loss'])\n",
    "plt.plot(history[0].history['val_loss'])\n",
    "plt.title('Model Loss (on training data)')\n",
    "plt.ylabel('loss')\n",
    "plt.xlabel('epoch')\n",
    "plt.legend(['Loss', 'Loss (val)'])\n",
    "plt.show()"
   ]
  },
  {
   "cell_type": "code",
   "execution_count": null,
   "metadata": {},
   "outputs": [],
   "source": [
    "sample_size = 14\n",
    "print(y_test[:sample_size])\n",
    "print(np.round(model.predict(X_test[:sample_size]).reshape((sample_size,)), 2))"
   ]
  }
 ],
 "metadata": {
  "kernelspec": {
   "display_name": "Python 3",
   "language": "python",
   "name": "python3"
  },
  "language_info": {
   "codemirror_mode": {
    "name": "ipython",
    "version": 3
   },
   "file_extension": ".py",
   "mimetype": "text/x-python",
   "name": "python",
   "nbconvert_exporter": "python",
   "pygments_lexer": "ipython3",
   "version": "3.6.9"
  }
 },
 "nbformat": 4,
 "nbformat_minor": 4
}
