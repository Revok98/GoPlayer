{
 "cells": [
  {
   "cell_type": "markdown",
   "metadata": {},
   "source": [
    "Entraîne les réseaux des neurones en les entrainant sur des parties de gnugo\n"
   ]
  },
  {
   "cell_type": "code",
   "execution_count": null,
   "metadata": {},
   "outputs": [],
   "source": [
    "import tensorflow.keras\n",
    "from tensorflow.keras import regularizers\n",
    "from tensorflow.keras.models import Sequential\n",
    "from tensorflow.keras.layers import Dense, Dropout, Activation, Flatten\n",
    "from tensorflow.keras.layers import Conv2D, BatchNormalization, LocallyConnected2D, SeparableConv2D\n",
    "import tensorflow.keras.optimizers as optimizers\n",
    "from tensorflow.keras.constraints import max_norm\n",
    "import numpy as np\n",
    "import matplotlib.pyplot as plt\n",
    "from sklearn.model_selection import train_test_split\n",
    "from tensorflow.keras.callbacks import Callback\n",
    "from tensorflow.keras import activations"
   ]
  },
  {
   "cell_type": "code",
   "execution_count": null,
   "metadata": {},
   "outputs": [],
   "source": [
    "from import_data import import_data"
   ]
  },
  {
   "cell_type": "markdown",
   "metadata": {},
   "source": [
    "On prends que l'on généère en faisant jouer Gnugo"
   ]
  },
  {
   "cell_type": "code",
   "execution_count": 16,
   "metadata": {
    "scrolled": false
   },
   "outputs": [
    {
     "name": "stdout",
     "output_type": "stream",
     "text": [
      "308 parties rejetées par le goban, reste 6053 parties\n",
      "(38739, 9, 9, 6)\n",
      "(38739, 82)\n",
      "(38739,)\n"
     ]
    }
   ],
   "source": [
    "X, y_priors, y_values = import_data(historique=1, liberties=3)\n",
    "\n",
    "X_train, X_test, y_prior_train, y_prior_test, y_value_train, y_value_test = train_test_split(X, y_priors, y_values, test_size=0.2)\n",
    "\n",
    "print(X_train.shape)\n",
    "print(y_prior_train.shape)\n",
    "print(y_value_train.shape)"
   ]
  },
  {
   "cell_type": "markdown",
   "metadata": {},
   "source": [
    "On crée le modèle pour les priors. Celui ci retournera les probabilités de gagner pour chaque coup jouer (d'où la sortie de taille 82) ."
   ]
  },
  {
   "cell_type": "code",
   "execution_count": 93,
   "metadata": {},
   "outputs": [
    {
     "name": "stdout",
     "output_type": "stream",
     "text": [
      "Model: \"sequential_27\"\n",
      "_________________________________________________________________\n",
      "Layer (type)                 Output Shape              Param #   \n",
      "=================================================================\n",
      "conv2d_122 (Conv2D)          (None, 9, 9, 64)          9664      \n",
      "_________________________________________________________________\n",
      "batch_normalization_95 (Batc (None, 9, 9, 64)          256       \n",
      "_________________________________________________________________\n",
      "activation_95 (Activation)   (None, 9, 9, 64)          0         \n",
      "_________________________________________________________________\n",
      "conv2d_123 (Conv2D)          (None, 9, 9, 64)          36928     \n",
      "_________________________________________________________________\n",
      "batch_normalization_96 (Batc (None, 9, 9, 64)          256       \n",
      "_________________________________________________________________\n",
      "activation_96 (Activation)   (None, 9, 9, 64)          0         \n",
      "_________________________________________________________________\n",
      "flatten_27 (Flatten)         (None, 5184)              0         \n",
      "_________________________________________________________________\n",
      "dense_113 (Dense)            (None, 1024)              5309440   \n",
      "_________________________________________________________________\n",
      "dropout_101 (Dropout)        (None, 1024)              0         \n",
      "_________________________________________________________________\n",
      "dense_114 (Dense)            (None, 512)               524800    \n",
      "_________________________________________________________________\n",
      "dropout_102 (Dropout)        (None, 512)               0         \n",
      "_________________________________________________________________\n",
      "dense_115 (Dense)            (None, 256)               131328    \n",
      "_________________________________________________________________\n",
      "dense_116 (Dense)            (None, 82)                21074     \n",
      "=================================================================\n",
      "Total params: 6,033,746\n",
      "Trainable params: 6,033,490\n",
      "Non-trainable params: 256\n",
      "_________________________________________________________________\n"
     ]
    }
   ],
   "source": [
    "model = Sequential()\n",
    "model.add(Conv2D(64, kernel_size=5, input_shape=X[0].shape, padding =\"same\"))\n",
    "model.add(BatchNormalization())\n",
    "model.add(Activation('relu'))\n",
    "model.add(Conv2D(64, kernel_size=3, padding =\"same\"))\n",
    "model.add(BatchNormalization())\n",
    "model.add(Activation('relu'))\n",
    "model.add(Flatten())\n",
    "model.add(Dense(1024, activation='tanh', kernel_regularizer=regularizers.l1(1e-5)))\n",
    "model.add(Dropout(0.3))\n",
    "model.add(Dense(512, activation='relu', kernel_regularizer=regularizers.l1(1e-5)))\n",
    "model.add(Dropout(0.3))\n",
    "model.add(Dense(256, activation='tanh'))\n",
    "model.add(Dense(82, activation='sigmoid')) \n",
    "\n",
    "opt = optimizers.Adam(lr=1e-3)\n",
    "\n",
    "model.compile(loss='binary_crossentropy', optimizer=opt, metrics=['mae'])\n",
    "model.summary()\n"
   ]
  },
  {
   "cell_type": "code",
   "execution_count": 94,
   "metadata": {
    "scrolled": true
   },
   "outputs": [
    {
     "name": "stdout",
     "output_type": "stream",
     "text": [
      "Training ...\n",
      "Epoch 1/100\n",
      "606/606 - 7s - loss: 0.7180 - mae: 0.2599 - val_loss: 0.6372 - val_mae: 0.2623\n",
      "Epoch 2/100\n",
      "606/606 - 6s - loss: 0.6166 - mae: 0.2524 - val_loss: 0.6204 - val_mae: 0.2591\n",
      "Epoch 3/100\n",
      "606/606 - 6s - loss: 0.6148 - mae: 0.2507 - val_loss: 0.6131 - val_mae: 0.2506\n",
      "Epoch 4/100\n",
      "606/606 - 6s - loss: 0.6148 - mae: 0.2498 - val_loss: 0.6176 - val_mae: 0.2579\n",
      "Epoch 5/100\n",
      "606/606 - 6s - loss: 0.6139 - mae: 0.2486 - val_loss: 0.6162 - val_mae: 0.2443\n",
      "Epoch 6/100\n",
      "606/606 - 6s - loss: 0.6138 - mae: 0.2460 - val_loss: 0.6213 - val_mae: 0.2537\n",
      "Epoch 7/100\n",
      "606/606 - 6s - loss: 0.6045 - mae: 0.2441 - val_loss: 0.6099 - val_mae: 0.2453\n",
      "Epoch 8/100\n",
      "606/606 - 6s - loss: 0.6013 - mae: 0.2431 - val_loss: 0.6163 - val_mae: 0.2551\n",
      "Epoch 9/100\n",
      "606/606 - 6s - loss: 0.5962 - mae: 0.2414 - val_loss: 0.5944 - val_mae: 0.2428\n",
      "Epoch 10/100\n",
      "606/606 - 6s - loss: 0.5975 - mae: 0.2412 - val_loss: 0.5952 - val_mae: 0.2476\n",
      "Epoch 11/100\n",
      "606/606 - 6s - loss: 0.5945 - mae: 0.2406 - val_loss: 0.6117 - val_mae: 0.2535\n",
      "Epoch 12/100\n",
      "606/606 - 6s - loss: 0.5933 - mae: 0.2400 - val_loss: 0.5981 - val_mae: 0.2348\n",
      "Epoch 13/100\n",
      "606/606 - 6s - loss: 0.5946 - mae: 0.2395 - val_loss: 0.5909 - val_mae: 0.2405\n",
      "Epoch 14/100\n",
      "606/606 - 6s - loss: 0.5937 - mae: 0.2391 - val_loss: 0.5999 - val_mae: 0.2435\n",
      "Epoch 15/100\n",
      "606/606 - 6s - loss: 0.5921 - mae: 0.2382 - val_loss: 0.5922 - val_mae: 0.2385\n",
      "Epoch 16/100\n",
      "606/606 - 6s - loss: 0.5916 - mae: 0.2382 - val_loss: 0.6035 - val_mae: 0.2503\n",
      "Epoch 17/100\n",
      "606/606 - 6s - loss: 0.5923 - mae: 0.2376 - val_loss: 0.5959 - val_mae: 0.2376\n",
      "Epoch 18/100\n",
      "606/606 - 6s - loss: 0.5903 - mae: 0.2366 - val_loss: 0.5939 - val_mae: 0.2366\n",
      "Epoch 19/100\n",
      "606/606 - 6s - loss: 0.5912 - mae: 0.2363 - val_loss: 0.6114 - val_mae: 0.2554\n",
      "Epoch 20/100\n",
      "606/606 - 6s - loss: 0.5913 - mae: 0.2357 - val_loss: 0.6031 - val_mae: 0.2478\n",
      "Epoch 21/100\n",
      "606/606 - 6s - loss: 0.5870 - mae: 0.2342 - val_loss: 0.5956 - val_mae: 0.2470\n",
      "Epoch 22/100\n",
      "606/606 - 6s - loss: 0.5872 - mae: 0.2336 - val_loss: 0.5956 - val_mae: 0.2398\n",
      "Epoch 23/100\n",
      "606/606 - 6s - loss: 0.5870 - mae: 0.2326 - val_loss: 0.5941 - val_mae: 0.2393\n",
      "Epoch 24/100\n",
      "606/606 - 6s - loss: 0.5850 - mae: 0.2312 - val_loss: 0.5946 - val_mae: 0.2360\n",
      "Epoch 25/100\n",
      "606/606 - 6s - loss: 0.5858 - mae: 0.2307 - val_loss: 0.5960 - val_mae: 0.2426\n",
      "Epoch 26/100\n",
      "606/606 - 6s - loss: 0.5863 - mae: 0.2301 - val_loss: 0.5956 - val_mae: 0.2401\n",
      "Epoch 27/100\n",
      "606/606 - 6s - loss: 0.5845 - mae: 0.2294 - val_loss: 0.5962 - val_mae: 0.2373\n",
      "Epoch 28/100\n",
      "606/606 - 6s - loss: 0.5817 - mae: 0.2282 - val_loss: 0.5954 - val_mae: 0.2381\n",
      "Epoch 29/100\n",
      "606/606 - 6s - loss: 0.5822 - mae: 0.2274 - val_loss: 0.6005 - val_mae: 0.2434\n",
      "Epoch 30/100\n",
      "606/606 - 6s - loss: 0.5812 - mae: 0.2261 - val_loss: 0.6025 - val_mae: 0.2368\n",
      "Epoch 31/100\n",
      "606/606 - 6s - loss: 0.5811 - mae: 0.2255 - val_loss: 0.6032 - val_mae: 0.2400\n",
      "Epoch 32/100\n",
      "606/606 - 6s - loss: 0.5805 - mae: 0.2247 - val_loss: 0.5965 - val_mae: 0.2396\n",
      "Epoch 33/100\n",
      "606/606 - 6s - loss: 0.5764 - mae: 0.2235 - val_loss: 0.6020 - val_mae: 0.2418\n",
      "Epoch 34/100\n",
      "606/606 - 6s - loss: 0.5756 - mae: 0.2225 - val_loss: 0.6017 - val_mae: 0.2445\n",
      "Epoch 35/100\n",
      "606/606 - 6s - loss: 0.5776 - mae: 0.2222 - val_loss: 0.6094 - val_mae: 0.2484\n",
      "Epoch 36/100\n",
      "606/606 - 6s - loss: 0.5760 - mae: 0.2210 - val_loss: 0.6062 - val_mae: 0.2423\n",
      "Epoch 37/100\n",
      "606/606 - 6s - loss: 0.5776 - mae: 0.2206 - val_loss: 0.6067 - val_mae: 0.2381\n",
      "Epoch 38/100\n",
      "606/606 - 6s - loss: 0.5732 - mae: 0.2192 - val_loss: 0.6099 - val_mae: 0.2318\n",
      "Epoch 39/100\n",
      "606/606 - 6s - loss: 0.5783 - mae: 0.2199 - val_loss: 0.6114 - val_mae: 0.2410\n",
      "Epoch 40/100\n",
      "606/606 - 6s - loss: 0.5722 - mae: 0.2182 - val_loss: 0.6089 - val_mae: 0.2333\n",
      "Epoch 41/100\n",
      "606/606 - 6s - loss: 0.5718 - mae: 0.2179 - val_loss: 0.6089 - val_mae: 0.2425\n",
      "Epoch 42/100\n",
      "606/606 - 6s - loss: 0.5729 - mae: 0.2168 - val_loss: 0.6161 - val_mae: 0.2348\n",
      "Epoch 43/100\n",
      "606/606 - 6s - loss: 0.5710 - mae: 0.2165 - val_loss: 0.6091 - val_mae: 0.2398\n",
      "Epoch 44/100\n",
      "606/606 - 6s - loss: 0.5723 - mae: 0.2165 - val_loss: 0.6171 - val_mae: 0.2324\n",
      "Epoch 45/100\n",
      "606/606 - 6s - loss: 0.5698 - mae: 0.2153 - val_loss: 0.6105 - val_mae: 0.2362\n",
      "Epoch 46/100\n",
      "606/606 - 6s - loss: 0.5683 - mae: 0.2146 - val_loss: 0.6131 - val_mae: 0.2417\n",
      "Epoch 47/100\n",
      "606/606 - 6s - loss: 0.5700 - mae: 0.2139 - val_loss: 0.6177 - val_mae: 0.2388\n",
      "Epoch 48/100\n",
      "606/606 - 6s - loss: 0.5696 - mae: 0.2140 - val_loss: 0.6162 - val_mae: 0.2477\n",
      "Epoch 49/100\n",
      "606/606 - 6s - loss: 0.5676 - mae: 0.2126 - val_loss: 0.6126 - val_mae: 0.2399\n",
      "Epoch 50/100\n",
      "606/606 - 7s - loss: 0.5708 - mae: 0.2135 - val_loss: 0.6252 - val_mae: 0.2346\n",
      "Epoch 51/100\n",
      "606/606 - 7s - loss: 0.5680 - mae: 0.2122 - val_loss: 0.6173 - val_mae: 0.2395\n",
      "Epoch 52/100\n",
      "606/606 - 7s - loss: 0.5665 - mae: 0.2121 - val_loss: 0.6202 - val_mae: 0.2402\n",
      "Epoch 53/100\n",
      "606/606 - 7s - loss: 0.5661 - mae: 0.2115 - val_loss: 0.6255 - val_mae: 0.2341\n",
      "Epoch 54/100\n",
      "606/606 - 7s - loss: 0.5666 - mae: 0.2107 - val_loss: 0.6191 - val_mae: 0.2420\n",
      "Epoch 55/100\n",
      "606/606 - 7s - loss: 0.5652 - mae: 0.2110 - val_loss: 0.6222 - val_mae: 0.2383\n",
      "Epoch 56/100\n",
      "606/606 - 7s - loss: 0.5678 - mae: 0.2110 - val_loss: 0.6252 - val_mae: 0.2420\n",
      "Epoch 57/100\n",
      "606/606 - 7s - loss: 0.5653 - mae: 0.2103 - val_loss: 0.6225 - val_mae: 0.2393\n",
      "Epoch 58/100\n",
      "606/606 - 6s - loss: 0.5638 - mae: 0.2095 - val_loss: 0.6324 - val_mae: 0.2308\n",
      "Epoch 59/100\n",
      "606/606 - 7s - loss: 0.5624 - mae: 0.2092 - val_loss: 0.6209 - val_mae: 0.2386\n",
      "Epoch 60/100\n",
      "606/606 - 7s - loss: 0.5658 - mae: 0.2093 - val_loss: 0.6276 - val_mae: 0.2337\n",
      "Epoch 61/100\n",
      "606/606 - 7s - loss: 0.5653 - mae: 0.2093 - val_loss: 0.6231 - val_mae: 0.2410\n",
      "Epoch 62/100\n",
      "606/606 - 7s - loss: 0.5622 - mae: 0.2086 - val_loss: 0.6180 - val_mae: 0.2378\n",
      "Epoch 63/100\n",
      "606/606 - 7s - loss: 0.5627 - mae: 0.2084 - val_loss: 0.6166 - val_mae: 0.2420\n",
      "Epoch 64/100\n",
      "606/606 - 7s - loss: 0.5613 - mae: 0.2078 - val_loss: 0.6211 - val_mae: 0.2388\n",
      "Epoch 65/100\n",
      "606/606 - 7s - loss: 0.5606 - mae: 0.2073 - val_loss: 0.6289 - val_mae: 0.2376\n",
      "Epoch 66/100\n",
      "606/606 - 7s - loss: 0.5602 - mae: 0.2068 - val_loss: 0.6310 - val_mae: 0.2343\n",
      "Epoch 67/100\n",
      "606/606 - 7s - loss: 0.5624 - mae: 0.2068 - val_loss: 0.6279 - val_mae: 0.2407\n",
      "Epoch 68/100\n",
      "606/606 - 7s - loss: 0.5624 - mae: 0.2065 - val_loss: 0.6256 - val_mae: 0.2407\n",
      "Epoch 69/100\n",
      "606/606 - 7s - loss: 0.5625 - mae: 0.2066 - val_loss: 0.6280 - val_mae: 0.2445\n",
      "Epoch 70/100\n",
      "606/606 - 7s - loss: 0.5619 - mae: 0.2064 - val_loss: 0.6310 - val_mae: 0.2376\n",
      "Epoch 71/100\n",
      "606/606 - 7s - loss: 0.5641 - mae: 0.2062 - val_loss: 0.6324 - val_mae: 0.2359\n",
      "Epoch 72/100\n",
      "606/606 - 7s - loss: 0.5599 - mae: 0.2058 - val_loss: 0.6293 - val_mae: 0.2377\n",
      "Epoch 73/100\n",
      "606/606 - 7s - loss: 0.5617 - mae: 0.2059 - val_loss: 0.6308 - val_mae: 0.2419\n",
      "Epoch 74/100\n",
      "606/606 - 7s - loss: 0.5593 - mae: 0.2050 - val_loss: 0.6282 - val_mae: 0.2396\n",
      "Epoch 75/100\n",
      "606/606 - 7s - loss: 0.5575 - mae: 0.2050 - val_loss: 0.6282 - val_mae: 0.2387\n",
      "Epoch 76/100\n",
      "606/606 - 7s - loss: 0.5578 - mae: 0.2052 - val_loss: 0.6304 - val_mae: 0.2378\n",
      "Epoch 77/100\n",
      "606/606 - 7s - loss: 0.5592 - mae: 0.2047 - val_loss: 0.6338 - val_mae: 0.2367\n",
      "Epoch 78/100\n",
      "606/606 - 7s - loss: 0.5582 - mae: 0.2048 - val_loss: 0.6288 - val_mae: 0.2386\n",
      "Epoch 79/100\n",
      "606/606 - 7s - loss: 0.5577 - mae: 0.2039 - val_loss: 0.6341 - val_mae: 0.2345\n",
      "Epoch 80/100\n",
      "606/606 - 7s - loss: 0.5605 - mae: 0.2043 - val_loss: 0.6403 - val_mae: 0.2390\n",
      "Epoch 81/100\n",
      "606/606 - 7s - loss: 0.5615 - mae: 0.2045 - val_loss: 0.6289 - val_mae: 0.2437\n",
      "Epoch 82/100\n",
      "606/606 - 7s - loss: 0.5588 - mae: 0.2036 - val_loss: 0.6361 - val_mae: 0.2361\n",
      "Epoch 83/100\n",
      "606/606 - 7s - loss: 0.5589 - mae: 0.2039 - val_loss: 0.6284 - val_mae: 0.2413\n",
      "Epoch 84/100\n",
      "606/606 - 7s - loss: 0.5591 - mae: 0.2033 - val_loss: 0.6300 - val_mae: 0.2423\n",
      "Epoch 85/100\n",
      "606/606 - 7s - loss: 0.5561 - mae: 0.2029 - val_loss: 0.6232 - val_mae: 0.2394\n",
      "Epoch 86/100\n",
      "606/606 - 7s - loss: 0.5546 - mae: 0.2030 - val_loss: 0.6411 - val_mae: 0.2354\n",
      "Epoch 87/100\n",
      "606/606 - 7s - loss: 0.5577 - mae: 0.2030 - val_loss: 0.6414 - val_mae: 0.2369\n",
      "Epoch 88/100\n",
      "606/606 - 7s - loss: 0.5570 - mae: 0.2024 - val_loss: 0.6363 - val_mae: 0.2369\n",
      "Epoch 89/100\n",
      "606/606 - 7s - loss: 0.5594 - mae: 0.2034 - val_loss: 0.6335 - val_mae: 0.2402\n",
      "Epoch 90/100\n"
     ]
    },
    {
     "name": "stdout",
     "output_type": "stream",
     "text": [
      "606/606 - 7s - loss: 0.5557 - mae: 0.2018 - val_loss: 0.6358 - val_mae: 0.2360\n",
      "Epoch 91/100\n",
      "606/606 - 7s - loss: 0.5560 - mae: 0.2026 - val_loss: 0.6405 - val_mae: 0.2377\n",
      "Epoch 92/100\n",
      "606/606 - 7s - loss: 0.5594 - mae: 0.2023 - val_loss: 0.6387 - val_mae: 0.2344\n",
      "Epoch 93/100\n",
      "606/606 - 7s - loss: 0.5564 - mae: 0.2021 - val_loss: 0.6341 - val_mae: 0.2385\n",
      "Epoch 94/100\n",
      "606/606 - 7s - loss: 0.5556 - mae: 0.2018 - val_loss: 0.6380 - val_mae: 0.2357\n",
      "Epoch 95/100\n",
      "606/606 - 7s - loss: 0.5595 - mae: 0.2020 - val_loss: 0.6346 - val_mae: 0.2414\n",
      "Epoch 96/100\n",
      "606/606 - 7s - loss: 0.5545 - mae: 0.2015 - val_loss: 0.6410 - val_mae: 0.2359\n",
      "Epoch 97/100\n",
      "606/606 - 7s - loss: 0.5555 - mae: 0.2017 - val_loss: 0.6389 - val_mae: 0.2370\n",
      "Epoch 98/100\n",
      "606/606 - 7s - loss: 0.5554 - mae: 0.2016 - val_loss: 0.6366 - val_mae: 0.2383\n",
      "Epoch 99/100\n",
      "606/606 - 7s - loss: 0.5530 - mae: 0.2007 - val_loss: 0.6377 - val_mae: 0.2350\n",
      "Epoch 100/100\n",
      "606/606 - 7s - loss: 0.5557 - mae: 0.2014 - val_loss: 0.6424 - val_mae: 0.2386\n"
     ]
    },
    {
     "data": {
      "text/plain": [
       "<tensorflow.python.keras.callbacks.History at 0x7f53baa841d0>"
      ]
     },
     "execution_count": 94,
     "metadata": {},
     "output_type": "execute_result"
    }
   ],
   "source": [
    "class History(Callback):\n",
    "    def __init__(self):\n",
    "        self.history = {}\n",
    "    def on_epoch_end(self, epoch, logs={}):\n",
    "        for k,v in logs.items():\n",
    "            if not k in self.history: self.history[k]=[]\n",
    "            self.history[k].append(v)\n",
    "        \n",
    "history=[History()]\n",
    "\n",
    "# hyperparamètres\n",
    "epochs = 100\n",
    "batch_size = 64\n",
    "\n",
    "# training\n",
    "print(\"Training ...\")\n",
    "model.fit(X_train, y_prior_train,\n",
    "          batch_size=batch_size,\n",
    "          epochs=epochs,\n",
    "          verbose=2,\n",
    "          validation_data=(X_test, y_prior_test),\n",
    "          callbacks=history)"
   ]
  },
  {
   "cell_type": "code",
   "execution_count": 96,
   "metadata": {},
   "outputs": [
    {
     "data": {
      "image/png": "[encoded data removed]",
      "text/plain": [
       "<Figure size 432x288 with 1 Axes>"
      ]
     },
     "metadata": {
      "needs_background": "light"
     },
     "output_type": "display_data"
    }
   ],
   "source": [
    "#Print model loss\n",
    "plt.plot(history[0].history['loss'])\n",
    "plt.plot(history[0].history['val_loss'])\n",
    "plt.title('Model Loss (on training data)')\n",
    "plt.ylabel('loss')\n",
    "plt.xlabel('epoch')\n",
    "plt.legend(['Loss', 'Loss (val)'])\n",
    "plt.show()"
   ]
  },
  {
   "cell_type": "markdown",
   "metadata": {},
   "source": [
    "On voit que ce modèle a une tendance à overfit au delà 20 epochs"
   ]
  },
  {
   "cell_type": "code",
   "execution_count": 97,
   "metadata": {},
   "outputs": [
    {
     "name": "stdout",
     "output_type": "stream",
     "text": [
      "[0.36800107 0.35510567 0.30455098 0.29189774 0.26724243 0.26100406\n",
      " 0.28365678 0.3095967  0.32709497 0.35969657 0.2993199  0.22997321\n",
      " 0.20929524 0.19069286 0.1896664  0.20592232 0.24621227 0.29451257\n",
      " 0.34351158 0.2532811  0.1965081  0.18633376 0.16626778 0.16930573\n",
      " 0.17521998 0.2078256  0.27629146 0.3329251  0.24093722 0.17534986\n",
      " 0.18280019 0.15784393 0.16436446 0.15401274 0.1734026  0.24014129\n",
      " 0.26817802 0.18155685 0.14650413 0.14918609 0.16532986 0.1452651\n",
      " 0.15587288 0.16481951 0.24562107 0.22566748 0.14723215 0.14588834\n",
      " 0.14842954 0.15185189 0.17539614 0.16288161 0.17958413 0.2408363\n",
      " 0.1952192  0.13410355 0.12305612 0.14011924 0.15703203 0.18986674\n",
      " 0.19403346 0.23102921 0.29912308 0.22852062 0.18033427 0.1544519\n",
      " 0.18264927 0.21985592 0.22688878 0.25675538 0.30791265 0.34351537\n",
      " 0.3282808  0.24230874 0.24724694 0.26747298 0.300767   0.34334522\n",
      " 0.3550358  0.3506921  0.3718219  0.4026165 ]\n",
      "[0.4  0.47 0.53 0.27 0.33 0.   0.   0.27 0.67 0.47 0.27 0.   0.33 0.\n",
      " 0.   0.53 0.   0.2  0.33 0.   0.6  0.   0.13 0.   0.2  0.   0.   0.8\n",
      " 0.2  0.   0.4  0.   0.   0.   0.   0.   0.87 0.   0.2  0.   0.   0.\n",
      " 0.   0.   0.6  0.53 0.   0.   0.   0.   0.   0.   0.   0.   0.33 0.\n",
      " 0.   0.   0.13 0.   0.47 0.4  0.   0.   0.   0.2  0.   0.4  0.93 0.\n",
      " 0.   0.   0.   0.   0.4  0.13 0.53 0.47 0.13 0.47 0.   0.47]\n"
     ]
    }
   ],
   "source": [
    "proba = model.predict(X_test)\n",
    "print(proba[6])\n",
    "print(y_prior_test[6])"
   ]
  },
  {
   "cell_type": "code",
   "execution_count": 54,
   "metadata": {},
   "outputs": [],
   "source": [
    "model.save('model/model_priors.h5')"
   ]
  },
  {
   "cell_type": "markdown",
   "metadata": {},
   "source": [
    "Second modèle qui lui va juste retourner la probabilité de gagner selon un plateau"
   ]
  },
  {
   "cell_type": "code",
   "execution_count": 57,
   "metadata": {},
   "outputs": [
    {
     "name": "stdout",
     "output_type": "stream",
     "text": [
      "Model: \"sequential_13\"\n",
      "_________________________________________________________________\n",
      "Layer (type)                 Output Shape              Param #   \n",
      "=================================================================\n",
      "conv2d_65 (Conv2D)           (None, 9, 9, 64)          3520      \n",
      "_________________________________________________________________\n",
      "conv2d_66 (Conv2D)           (None, 9, 9, 64)          36928     \n",
      "_________________________________________________________________\n",
      "batch_normalization_52 (Batc (None, 9, 9, 64)          256       \n",
      "_________________________________________________________________\n",
      "activation_52 (Activation)   (None, 9, 9, 64)          0         \n",
      "_________________________________________________________________\n",
      "dropout_49 (Dropout)         (None, 9, 9, 64)          0         \n",
      "_________________________________________________________________\n",
      "conv2d_67 (Conv2D)           (None, 9, 9, 64)          36928     \n",
      "_________________________________________________________________\n",
      "batch_normalization_53 (Batc (None, 9, 9, 64)          256       \n",
      "_________________________________________________________________\n",
      "activation_53 (Activation)   (None, 9, 9, 64)          0         \n",
      "_________________________________________________________________\n",
      "dropout_50 (Dropout)         (None, 9, 9, 64)          0         \n",
      "_________________________________________________________________\n",
      "conv2d_68 (Conv2D)           (None, 9, 9, 64)          36928     \n",
      "_________________________________________________________________\n",
      "batch_normalization_54 (Batc (None, 9, 9, 64)          256       \n",
      "_________________________________________________________________\n",
      "activation_54 (Activation)   (None, 9, 9, 64)          0         \n",
      "_________________________________________________________________\n",
      "dropout_51 (Dropout)         (None, 9, 9, 64)          0         \n",
      "_________________________________________________________________\n",
      "conv2d_69 (Conv2D)           (None, 9, 9, 64)          36928     \n",
      "_________________________________________________________________\n",
      "batch_normalization_55 (Batc (None, 9, 9, 64)          256       \n",
      "_________________________________________________________________\n",
      "activation_55 (Activation)   (None, 9, 9, 64)          0         \n",
      "_________________________________________________________________\n",
      "flatten_13 (Flatten)         (None, 5184)              0         \n",
      "_________________________________________________________________\n",
      "dense_42 (Dense)             (None, 1024)              5309440   \n",
      "_________________________________________________________________\n",
      "dropout_52 (Dropout)         (None, 1024)              0         \n",
      "_________________________________________________________________\n",
      "dense_43 (Dense)             (None, 512)               524800    \n",
      "_________________________________________________________________\n",
      "dropout_53 (Dropout)         (None, 512)               0         \n",
      "_________________________________________________________________\n",
      "dense_44 (Dense)             (None, 256)               131328    \n",
      "_________________________________________________________________\n",
      "dropout_54 (Dropout)         (None, 256)               0         \n",
      "_________________________________________________________________\n",
      "dense_47 (Dense)             (None, 1)                 257       \n",
      "=================================================================\n",
      "Total params: 6,118,081\n",
      "Trainable params: 6,117,569\n",
      "Non-trainable params: 512\n",
      "_________________________________________________________________\n"
     ]
    }
   ],
   "source": [
    "model.pop()\n",
    "model.add(Dense(1, activation='tanh'))\n",
    "opt = optimizers.Adam(learning_rate=0.001)\n",
    "model.compile(loss='mae', optimizer=opt)\n",
    "model.summary()"
   ]
  },
  {
   "cell_type": "code",
   "execution_count": 58,
   "metadata": {},
   "outputs": [
    {
     "name": "stdout",
     "output_type": "stream",
     "text": [
      "Training ...\n",
      "Epoch 1/20\n",
      "152/152 [==============================] - 6s 32ms/step - loss: 0.3193 - val_loss: 0.2232\n",
      "Epoch 2/20\n",
      "152/152 [==============================] - 5s 31ms/step - loss: 0.1604 - val_loss: 0.2272\n",
      "Epoch 3/20\n",
      "152/152 [==============================] - 5s 31ms/step - loss: 0.1607 - val_loss: 0.2218\n",
      "Epoch 4/20\n",
      "152/152 [==============================] - 5s 31ms/step - loss: 0.1617 - val_loss: 0.2301\n",
      "Epoch 5/20\n",
      "152/152 [==============================] - 5s 31ms/step - loss: 0.1604 - val_loss: 0.2218\n",
      "Epoch 6/20\n",
      "152/152 [==============================] - 5s 31ms/step - loss: 0.1604 - val_loss: 0.2346\n",
      "Epoch 7/20\n",
      "152/152 [==============================] - 5s 31ms/step - loss: 0.1610 - val_loss: 0.2274\n",
      "Epoch 8/20\n",
      "152/152 [==============================] - 5s 31ms/step - loss: 0.1594 - val_loss: 0.2236\n",
      "Epoch 9/20\n",
      "152/152 [==============================] - 5s 31ms/step - loss: 0.1597 - val_loss: 0.2230\n",
      "Epoch 10/20\n",
      "152/152 [==============================] - 5s 31ms/step - loss: 0.1566 - val_loss: 0.2453\n",
      "Epoch 11/20\n",
      "152/152 [==============================] - 5s 31ms/step - loss: 0.1568 - val_loss: 0.2247\n",
      "Epoch 12/20\n",
      "152/152 [==============================] - 5s 31ms/step - loss: 0.1569 - val_loss: 0.2187\n",
      "Epoch 13/20\n",
      "152/152 [==============================] - 5s 31ms/step - loss: 0.1551 - val_loss: 0.2235\n",
      "Epoch 14/20\n",
      "152/152 [==============================] - 5s 31ms/step - loss: 0.1554 - val_loss: 0.2268\n",
      "Epoch 15/20\n",
      "152/152 [==============================] - 5s 31ms/step - loss: 0.1555 - val_loss: 0.2292\n",
      "Epoch 16/20\n",
      "152/152 [==============================] - 5s 31ms/step - loss: 0.1573 - val_loss: 0.2389\n",
      "Epoch 17/20\n",
      "152/152 [==============================] - 5s 31ms/step - loss: 0.1548 - val_loss: 0.2216\n",
      "Epoch 18/20\n",
      "152/152 [==============================] - 5s 31ms/step - loss: 0.1559 - val_loss: 0.2245\n",
      "Epoch 19/20\n",
      "152/152 [==============================] - 5s 31ms/step - loss: 0.1557 - val_loss: 0.2419\n",
      "Epoch 20/20\n",
      "152/152 [==============================] - 5s 31ms/step - loss: 0.1522 - val_loss: 0.2257\n"
     ]
    },
    {
     "data": {
      "text/plain": [
       "<tensorflow.python.keras.callbacks.History at 0x7f53e2bad240>"
      ]
     },
     "execution_count": 58,
     "metadata": {},
     "output_type": "execute_result"
    }
   ],
   "source": [
    "# hyperparamètres\n",
    "epochs = 50\n",
    "batch_size = 64\n",
    "\n",
    "history=[History()]\n",
    "\n",
    "# training\n",
    "print(\"Training ...\")\n",
    "model.fit(X_train, y_value_train,\n",
    "          batch_size=batch_size,\n",
    "          epochs=epochs,\n",
    "          validation_data=(X_test, y_value_test),\n",
    "          verbose=2,\n",
    "          callbacks=history)"
   ]
  },
  {
   "cell_type": "code",
   "execution_count": 60,
   "metadata": {},
   "outputs": [
    {
     "data": {
      "image/png": "[encoded data removed]",
      "text/plain": [
       "<Figure size 432x288 with 1 Axes>"
      ]
     },
     "metadata": {
      "needs_background": "light"
     },
     "output_type": "display_data"
    }
   ],
   "source": [
    "#Print model loss\n",
    "plt.plot(history[0].history['loss'])\n",
    "plt.plot(history[0].history['val_loss'])\n",
    "plt.title('Model Loss (on training data)')\n",
    "plt.ylabel('loss')\n",
    "plt.xlabel('epoch')\n",
    "plt.legend(['Loss', 'Loss (val)'])\n",
    "plt.show()"
   ]
  },
  {
   "cell_type": "code",
   "execution_count": 61,
   "metadata": {},
   "outputs": [
    {
     "name": "stdout",
     "output_type": "stream",
     "text": [
      "[[-0.99999976 -0.99999976 -0.99999976 -0.04786064 -0.99999976 -0.99999976]]\n",
      "[-0.02  -1.     0.144 -0.236 -1.    -1.   ]\n"
     ]
    }
   ],
   "source": [
    "proba = model.predict(X_test)\n",
    "print(proba[:6].reshape((-1, 6)))\n",
    "print(y_value_test[:6])"
   ]
  },
  {
   "cell_type": "code",
   "execution_count": 62,
   "metadata": {},
   "outputs": [],
   "source": [
    "model.save('model/model_values.h5')"
   ]
  }
 ],
 "metadata": {
  "kernelspec": {
   "display_name": "Python 3",
   "language": "python",
   "name": "python3"
  },
  "language_info": {
   "codemirror_mode": {
    "name": "ipython",
    "version": 3
   },
   "file_extension": ".py",
   "mimetype": "text/x-python",
   "name": "python",
   "nbconvert_exporter": "python",
   "pygments_lexer": "ipython3",
   "version": "3.8.5"
  }
 },
 "nbformat": 4,
 "nbformat_minor": 4
}
